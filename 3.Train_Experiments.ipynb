{
 "cells": [
  {
   "cell_type": "markdown",
   "metadata": {},
   "source": [
    "## 3. Train\n",
    "Experiment with different models to find best results"
   ]
  },
  {
   "cell_type": "code",
   "execution_count": 1,
   "metadata": {},
   "outputs": [],
   "source": [
    "import pandas as pd\n",
    "import warnings\n",
    "warnings.filterwarnings('ignore')\n",
    "import numpy as np\n",
    "import datetime\n",
    "import pickle"
   ]
  },
  {
   "cell_type": "code",
   "execution_count": 2,
   "metadata": {},
   "outputs": [],
   "source": [
    "data = pd.read_csv('marketing_campaign.csv', sep=';')"
   ]
  },
  {
   "cell_type": "markdown",
   "metadata": {},
   "source": [
    "### Train-test Split, Preprocessing, Feature Generation"
   ]
  },
  {
   "cell_type": "code",
   "execution_count": 3,
   "metadata": {},
   "outputs": [],
   "source": [
    "# Create train test split\n",
    "from sklearn.model_selection import train_test_split\n",
    "train, test = train_test_split(data, test_size=0.2, random_state=42)"
   ]
  },
  {
   "cell_type": "code",
   "execution_count": 4,
   "metadata": {},
   "outputs": [],
   "source": [
    "class FeatureEngineering:\n",
    "    def __init__(self, data, preprocessing_type='test'):\n",
    "        self.data = data\n",
    "        self.median_income = None\n",
    "        self.income_cutoff = None\n",
    "        self.preprocessing_type = preprocessing_type\n",
    "\n",
    "    def preprocessing(self):\n",
    "        # Calculate Age and remove outliers\n",
    "        self.data['Age'] = datetime.datetime.now().year - self.data['Year_Birth'] \n",
    "        self.data = self.data[self.data['Age'] < 100]\n",
    "\n",
    "        # Calculate Tenure\n",
    "        self.data['Dt_Customer'] = pd.to_datetime(self.data['Dt_Customer'])\n",
    "        self.data['Tenure'] = datetime.datetime.now().year - self.data['Dt_Customer'].dt.year\n",
    "\n",
    "        # Create Total Children\n",
    "        self.data['Total_Children'] = self.data['Kidhome'] + self.data['Teenhome']\n",
    "\n",
    "        # Fix Marital Status\n",
    "        self.data['Marital_Status'] = self.data['Marital_Status'].replace(['YOLO', 'Alone', 'Absurd'], 'Single')\n",
    "\n",
    "        # Remove outlier and impute median income\n",
    "        if self.preprocessing_type == 'train':\n",
    "            Q3 = np.quantile(data['Income'].dropna(), 0.75)\n",
    "            Q1 = np.quantile(data['Income'].dropna(), 0.25)\n",
    "            IQR = Q3 - Q1\n",
    "            self.income_cutoff = Q3 + 1.5 * IQR\n",
    "            self.median_income = self.data.loc[self.data['Income'] < self.income_cutoff, 'Income'].median()\n",
    "\n",
    "        self.data.loc[self.data['Income'] > self.income_cutoff, 'Income'] = self.median_income\n",
    "        self.data['Income'] = self.data['Income'].fillna(self.median_income)\n",
    "\n",
    "        # Set ID as index\n",
    "        self.data = self.data.set_index('ID')\n",
    "\n",
    "        # Drop columns\n",
    "        self.data = self.data.drop(['Year_Birth', 'Dt_Customer', 'Z_CostContact', 'Z_Revenue'], axis=1)\n",
    "    \n",
    "    def get_data(self) -> pd.DataFrame:\n",
    "        return(self.data)"
   ]
  },
  {
   "cell_type": "code",
   "execution_count": 5,
   "metadata": {},
   "outputs": [],
   "source": [
    "processing_train = FeatureEngineering(train, preprocessing_type='train')\n",
    "processing_train.preprocessing()\n",
    "preprocessed_Xtrain = processing_train.get_data()"
   ]
  },
  {
   "cell_type": "code",
   "execution_count": 6,
   "metadata": {},
   "outputs": [],
   "source": [
    "preprocessing_test = FeatureEngineering(test, preprocessing_type='test')\n",
    "preprocessing_test.median_income = processing_train.median_income\n",
    "preprocessing_test.income_cutoff = processing_train.income_cutoff\n",
    "preprocessing_test.preprocessing()\n",
    "preprocessed_Xtest = preprocessing_test.get_data()"
   ]
  },
  {
   "cell_type": "markdown",
   "metadata": {},
   "source": [
    "### Train Experimentation"
   ]
  },
  {
   "cell_type": "code",
   "execution_count": 7,
   "metadata": {},
   "outputs": [],
   "source": [
    "from pycaret.classification import *"
   ]
  },
  {
   "cell_type": "code",
   "execution_count": 8,
   "metadata": {},
   "outputs": [
    {
     "data": {
      "text/html": [
       "<style type=\"text/css\">\n",
       "#T_4b038_row9_col1 {\n",
       "  background-color: lightgreen;\n",
       "}\n",
       "</style>\n",
       "<table id=\"T_4b038\">\n",
       "  <thead>\n",
       "    <tr>\n",
       "      <th class=\"blank level0\" >&nbsp;</th>\n",
       "      <th id=\"T_4b038_level0_col0\" class=\"col_heading level0 col0\" >Description</th>\n",
       "      <th id=\"T_4b038_level0_col1\" class=\"col_heading level0 col1\" >Value</th>\n",
       "    </tr>\n",
       "  </thead>\n",
       "  <tbody>\n",
       "    <tr>\n",
       "      <th id=\"T_4b038_level0_row0\" class=\"row_heading level0 row0\" >0</th>\n",
       "      <td id=\"T_4b038_row0_col0\" class=\"data row0 col0\" >Session id</td>\n",
       "      <td id=\"T_4b038_row0_col1\" class=\"data row0 col1\" >123</td>\n",
       "    </tr>\n",
       "    <tr>\n",
       "      <th id=\"T_4b038_level0_row1\" class=\"row_heading level0 row1\" >1</th>\n",
       "      <td id=\"T_4b038_row1_col0\" class=\"data row1 col0\" >Target</td>\n",
       "      <td id=\"T_4b038_row1_col1\" class=\"data row1 col1\" >Response</td>\n",
       "    </tr>\n",
       "    <tr>\n",
       "      <th id=\"T_4b038_level0_row2\" class=\"row_heading level0 row2\" >2</th>\n",
       "      <td id=\"T_4b038_row2_col0\" class=\"data row2 col0\" >Target type</td>\n",
       "      <td id=\"T_4b038_row2_col1\" class=\"data row2 col1\" >Binary</td>\n",
       "    </tr>\n",
       "    <tr>\n",
       "      <th id=\"T_4b038_level0_row3\" class=\"row_heading level0 row3\" >3</th>\n",
       "      <td id=\"T_4b038_row3_col0\" class=\"data row3 col0\" >Original data shape</td>\n",
       "      <td id=\"T_4b038_row3_col1\" class=\"data row3 col1\" >(1791, 27)</td>\n",
       "    </tr>\n",
       "    <tr>\n",
       "      <th id=\"T_4b038_level0_row4\" class=\"row_heading level0 row4\" >4</th>\n",
       "      <td id=\"T_4b038_row4_col0\" class=\"data row4 col0\" >Transformed data shape</td>\n",
       "      <td id=\"T_4b038_row4_col1\" class=\"data row4 col1\" >(1791, 35)</td>\n",
       "    </tr>\n",
       "    <tr>\n",
       "      <th id=\"T_4b038_level0_row5\" class=\"row_heading level0 row5\" >5</th>\n",
       "      <td id=\"T_4b038_row5_col0\" class=\"data row5 col0\" >Transformed train set shape</td>\n",
       "      <td id=\"T_4b038_row5_col1\" class=\"data row5 col1\" >(1253, 35)</td>\n",
       "    </tr>\n",
       "    <tr>\n",
       "      <th id=\"T_4b038_level0_row6\" class=\"row_heading level0 row6\" >6</th>\n",
       "      <td id=\"T_4b038_row6_col0\" class=\"data row6 col0\" >Transformed test set shape</td>\n",
       "      <td id=\"T_4b038_row6_col1\" class=\"data row6 col1\" >(538, 35)</td>\n",
       "    </tr>\n",
       "    <tr>\n",
       "      <th id=\"T_4b038_level0_row7\" class=\"row_heading level0 row7\" >7</th>\n",
       "      <td id=\"T_4b038_row7_col0\" class=\"data row7 col0\" >Numeric features</td>\n",
       "      <td id=\"T_4b038_row7_col1\" class=\"data row7 col1\" >24</td>\n",
       "    </tr>\n",
       "    <tr>\n",
       "      <th id=\"T_4b038_level0_row8\" class=\"row_heading level0 row8\" >8</th>\n",
       "      <td id=\"T_4b038_row8_col0\" class=\"data row8 col0\" >Categorical features</td>\n",
       "      <td id=\"T_4b038_row8_col1\" class=\"data row8 col1\" >2</td>\n",
       "    </tr>\n",
       "    <tr>\n",
       "      <th id=\"T_4b038_level0_row9\" class=\"row_heading level0 row9\" >9</th>\n",
       "      <td id=\"T_4b038_row9_col0\" class=\"data row9 col0\" >Preprocess</td>\n",
       "      <td id=\"T_4b038_row9_col1\" class=\"data row9 col1\" >True</td>\n",
       "    </tr>\n",
       "    <tr>\n",
       "      <th id=\"T_4b038_level0_row10\" class=\"row_heading level0 row10\" >10</th>\n",
       "      <td id=\"T_4b038_row10_col0\" class=\"data row10 col0\" >Imputation type</td>\n",
       "      <td id=\"T_4b038_row10_col1\" class=\"data row10 col1\" >simple</td>\n",
       "    </tr>\n",
       "    <tr>\n",
       "      <th id=\"T_4b038_level0_row11\" class=\"row_heading level0 row11\" >11</th>\n",
       "      <td id=\"T_4b038_row11_col0\" class=\"data row11 col0\" >Numeric imputation</td>\n",
       "      <td id=\"T_4b038_row11_col1\" class=\"data row11 col1\" >mean</td>\n",
       "    </tr>\n",
       "    <tr>\n",
       "      <th id=\"T_4b038_level0_row12\" class=\"row_heading level0 row12\" >12</th>\n",
       "      <td id=\"T_4b038_row12_col0\" class=\"data row12 col0\" >Categorical imputation</td>\n",
       "      <td id=\"T_4b038_row12_col1\" class=\"data row12 col1\" >mode</td>\n",
       "    </tr>\n",
       "    <tr>\n",
       "      <th id=\"T_4b038_level0_row13\" class=\"row_heading level0 row13\" >13</th>\n",
       "      <td id=\"T_4b038_row13_col0\" class=\"data row13 col0\" >Maximum one-hot encoding</td>\n",
       "      <td id=\"T_4b038_row13_col1\" class=\"data row13 col1\" >25</td>\n",
       "    </tr>\n",
       "    <tr>\n",
       "      <th id=\"T_4b038_level0_row14\" class=\"row_heading level0 row14\" >14</th>\n",
       "      <td id=\"T_4b038_row14_col0\" class=\"data row14 col0\" >Encoding method</td>\n",
       "      <td id=\"T_4b038_row14_col1\" class=\"data row14 col1\" >None</td>\n",
       "    </tr>\n",
       "    <tr>\n",
       "      <th id=\"T_4b038_level0_row15\" class=\"row_heading level0 row15\" >15</th>\n",
       "      <td id=\"T_4b038_row15_col0\" class=\"data row15 col0\" >Fold Generator</td>\n",
       "      <td id=\"T_4b038_row15_col1\" class=\"data row15 col1\" >StratifiedKFold</td>\n",
       "    </tr>\n",
       "    <tr>\n",
       "      <th id=\"T_4b038_level0_row16\" class=\"row_heading level0 row16\" >16</th>\n",
       "      <td id=\"T_4b038_row16_col0\" class=\"data row16 col0\" >Fold Number</td>\n",
       "      <td id=\"T_4b038_row16_col1\" class=\"data row16 col1\" >10</td>\n",
       "    </tr>\n",
       "    <tr>\n",
       "      <th id=\"T_4b038_level0_row17\" class=\"row_heading level0 row17\" >17</th>\n",
       "      <td id=\"T_4b038_row17_col0\" class=\"data row17 col0\" >CPU Jobs</td>\n",
       "      <td id=\"T_4b038_row17_col1\" class=\"data row17 col1\" >-1</td>\n",
       "    </tr>\n",
       "    <tr>\n",
       "      <th id=\"T_4b038_level0_row18\" class=\"row_heading level0 row18\" >18</th>\n",
       "      <td id=\"T_4b038_row18_col0\" class=\"data row18 col0\" >Use GPU</td>\n",
       "      <td id=\"T_4b038_row18_col1\" class=\"data row18 col1\" >False</td>\n",
       "    </tr>\n",
       "    <tr>\n",
       "      <th id=\"T_4b038_level0_row19\" class=\"row_heading level0 row19\" >19</th>\n",
       "      <td id=\"T_4b038_row19_col0\" class=\"data row19 col0\" >Log Experiment</td>\n",
       "      <td id=\"T_4b038_row19_col1\" class=\"data row19 col1\" >False</td>\n",
       "    </tr>\n",
       "    <tr>\n",
       "      <th id=\"T_4b038_level0_row20\" class=\"row_heading level0 row20\" >20</th>\n",
       "      <td id=\"T_4b038_row20_col0\" class=\"data row20 col0\" >Experiment Name</td>\n",
       "      <td id=\"T_4b038_row20_col1\" class=\"data row20 col1\" >clf-default-name</td>\n",
       "    </tr>\n",
       "    <tr>\n",
       "      <th id=\"T_4b038_level0_row21\" class=\"row_heading level0 row21\" >21</th>\n",
       "      <td id=\"T_4b038_row21_col0\" class=\"data row21 col0\" >USI</td>\n",
       "      <td id=\"T_4b038_row21_col1\" class=\"data row21 col1\" >bc30</td>\n",
       "    </tr>\n",
       "  </tbody>\n",
       "</table>\n"
      ],
      "text/plain": [
       "<pandas.io.formats.style.Styler at 0x2287f2b8610>"
      ]
     },
     "metadata": {},
     "output_type": "display_data"
    }
   ],
   "source": [
    "s = setup(preprocessed_Xtrain, \n",
    "          target = 'Response',\n",
    "          preprocess = True,\n",
    "          session_id=123)"
   ]
  },
  {
   "cell_type": "code",
   "execution_count": 10,
   "metadata": {},
   "outputs": [
    {
     "data": {
      "text/html": [],
      "text/plain": [
       "<IPython.core.display.HTML object>"
      ]
     },
     "metadata": {},
     "output_type": "display_data"
    },
    {
     "data": {
      "text/html": [
       "<style type=\"text/css\">\n",
       "#T_b5b67 th {\n",
       "  text-align: left;\n",
       "}\n",
       "#T_b5b67_row0_col0, #T_b5b67_row0_col2, #T_b5b67_row0_col3, #T_b5b67_row0_col4, #T_b5b67_row1_col0, #T_b5b67_row1_col1, #T_b5b67_row1_col2, #T_b5b67_row1_col3, #T_b5b67_row1_col4, #T_b5b67_row1_col5, #T_b5b67_row1_col6, #T_b5b67_row1_col7, #T_b5b67_row2_col0, #T_b5b67_row2_col1, #T_b5b67_row2_col2, #T_b5b67_row2_col3, #T_b5b67_row2_col4, #T_b5b67_row2_col5, #T_b5b67_row2_col6, #T_b5b67_row2_col7, #T_b5b67_row3_col0, #T_b5b67_row3_col1, #T_b5b67_row3_col2, #T_b5b67_row3_col3, #T_b5b67_row3_col4, #T_b5b67_row3_col5, #T_b5b67_row3_col6, #T_b5b67_row3_col7, #T_b5b67_row4_col0, #T_b5b67_row4_col1, #T_b5b67_row4_col2, #T_b5b67_row4_col3, #T_b5b67_row4_col5, #T_b5b67_row4_col6, #T_b5b67_row4_col7, #T_b5b67_row5_col0, #T_b5b67_row5_col1, #T_b5b67_row5_col2, #T_b5b67_row5_col3, #T_b5b67_row5_col4, #T_b5b67_row5_col5, #T_b5b67_row5_col6, #T_b5b67_row5_col7, #T_b5b67_row6_col0, #T_b5b67_row6_col1, #T_b5b67_row6_col3, #T_b5b67_row6_col4, #T_b5b67_row6_col5, #T_b5b67_row6_col6, #T_b5b67_row6_col7, #T_b5b67_row7_col0, #T_b5b67_row7_col1, #T_b5b67_row7_col2, #T_b5b67_row7_col3, #T_b5b67_row7_col4, #T_b5b67_row7_col5, #T_b5b67_row7_col6, #T_b5b67_row7_col7, #T_b5b67_row8_col0, #T_b5b67_row8_col1, #T_b5b67_row8_col2, #T_b5b67_row8_col3, #T_b5b67_row8_col4, #T_b5b67_row8_col5, #T_b5b67_row8_col6, #T_b5b67_row8_col7, #T_b5b67_row9_col0, #T_b5b67_row9_col1, #T_b5b67_row9_col2, #T_b5b67_row9_col3, #T_b5b67_row9_col4, #T_b5b67_row9_col5, #T_b5b67_row9_col6, #T_b5b67_row9_col7, #T_b5b67_row10_col0, #T_b5b67_row10_col1, #T_b5b67_row10_col2, #T_b5b67_row10_col3, #T_b5b67_row10_col4, #T_b5b67_row10_col5, #T_b5b67_row10_col6, #T_b5b67_row10_col7, #T_b5b67_row11_col0, #T_b5b67_row11_col1, #T_b5b67_row11_col2, #T_b5b67_row11_col3, #T_b5b67_row11_col4, #T_b5b67_row11_col5, #T_b5b67_row11_col6, #T_b5b67_row11_col7, #T_b5b67_row12_col0, #T_b5b67_row12_col1, #T_b5b67_row12_col2, #T_b5b67_row12_col4, #T_b5b67_row12_col5, #T_b5b67_row12_col6, #T_b5b67_row12_col7 {\n",
       "  text-align: left;\n",
       "}\n",
       "#T_b5b67_row0_col1, #T_b5b67_row0_col5, #T_b5b67_row0_col6, #T_b5b67_row0_col7, #T_b5b67_row4_col4, #T_b5b67_row6_col2, #T_b5b67_row12_col3 {\n",
       "  text-align: left;\n",
       "  background-color: yellow;\n",
       "}\n",
       "#T_b5b67_row0_col8, #T_b5b67_row1_col8, #T_b5b67_row2_col8, #T_b5b67_row3_col8, #T_b5b67_row4_col8, #T_b5b67_row5_col8, #T_b5b67_row6_col8, #T_b5b67_row7_col8, #T_b5b67_row9_col8, #T_b5b67_row10_col8, #T_b5b67_row11_col8, #T_b5b67_row12_col8 {\n",
       "  text-align: left;\n",
       "  background-color: lightgrey;\n",
       "}\n",
       "#T_b5b67_row8_col8 {\n",
       "  text-align: left;\n",
       "  background-color: yellow;\n",
       "  background-color: lightgrey;\n",
       "}\n",
       "</style>\n",
       "<table id=\"T_b5b67\">\n",
       "  <thead>\n",
       "    <tr>\n",
       "      <th class=\"blank level0\" >&nbsp;</th>\n",
       "      <th id=\"T_b5b67_level0_col0\" class=\"col_heading level0 col0\" >Model</th>\n",
       "      <th id=\"T_b5b67_level0_col1\" class=\"col_heading level0 col1\" >Accuracy</th>\n",
       "      <th id=\"T_b5b67_level0_col2\" class=\"col_heading level0 col2\" >AUC</th>\n",
       "      <th id=\"T_b5b67_level0_col3\" class=\"col_heading level0 col3\" >Recall</th>\n",
       "      <th id=\"T_b5b67_level0_col4\" class=\"col_heading level0 col4\" >Prec.</th>\n",
       "      <th id=\"T_b5b67_level0_col5\" class=\"col_heading level0 col5\" >F1</th>\n",
       "      <th id=\"T_b5b67_level0_col6\" class=\"col_heading level0 col6\" >Kappa</th>\n",
       "      <th id=\"T_b5b67_level0_col7\" class=\"col_heading level0 col7\" >MCC</th>\n",
       "      <th id=\"T_b5b67_level0_col8\" class=\"col_heading level0 col8\" >TT (Sec)</th>\n",
       "    </tr>\n",
       "  </thead>\n",
       "  <tbody>\n",
       "    <tr>\n",
       "      <th id=\"T_b5b67_level0_row0\" class=\"row_heading level0 row0\" >ada</th>\n",
       "      <td id=\"T_b5b67_row0_col0\" class=\"data row0 col0\" >Ada Boost Classifier</td>\n",
       "      <td id=\"T_b5b67_row0_col1\" class=\"data row0 col1\" >0.8938</td>\n",
       "      <td id=\"T_b5b67_row0_col2\" class=\"data row0 col2\" >0.8800</td>\n",
       "      <td id=\"T_b5b67_row0_col3\" class=\"data row0 col3\" >0.5450</td>\n",
       "      <td id=\"T_b5b67_row0_col4\" class=\"data row0 col4\" >0.6775</td>\n",
       "      <td id=\"T_b5b67_row0_col5\" class=\"data row0 col5\" >0.5998</td>\n",
       "      <td id=\"T_b5b67_row0_col6\" class=\"data row0 col6\" >0.5399</td>\n",
       "      <td id=\"T_b5b67_row0_col7\" class=\"data row0 col7\" >0.5465</td>\n",
       "      <td id=\"T_b5b67_row0_col8\" class=\"data row0 col8\" >0.0930</td>\n",
       "    </tr>\n",
       "    <tr>\n",
       "      <th id=\"T_b5b67_level0_row1\" class=\"row_heading level0 row1\" >gbc</th>\n",
       "      <td id=\"T_b5b67_row1_col0\" class=\"data row1 col0\" >Gradient Boosting Classifier</td>\n",
       "      <td id=\"T_b5b67_row1_col1\" class=\"data row1 col1\" >0.8922</td>\n",
       "      <td id=\"T_b5b67_row1_col2\" class=\"data row1 col2\" >0.8956</td>\n",
       "      <td id=\"T_b5b67_row1_col3\" class=\"data row1 col3\" >0.4538</td>\n",
       "      <td id=\"T_b5b67_row1_col4\" class=\"data row1 col4\" >0.7204</td>\n",
       "      <td id=\"T_b5b67_row1_col5\" class=\"data row1 col5\" >0.5542</td>\n",
       "      <td id=\"T_b5b67_row1_col6\" class=\"data row1 col6\" >0.4965</td>\n",
       "      <td id=\"T_b5b67_row1_col7\" class=\"data row1 col7\" >0.5151</td>\n",
       "      <td id=\"T_b5b67_row1_col8\" class=\"data row1 col8\" >0.1770</td>\n",
       "    </tr>\n",
       "    <tr>\n",
       "      <th id=\"T_b5b67_level0_row2\" class=\"row_heading level0 row2\" >lda</th>\n",
       "      <td id=\"T_b5b67_row2_col0\" class=\"data row2 col0\" >Linear Discriminant Analysis</td>\n",
       "      <td id=\"T_b5b67_row2_col1\" class=\"data row2 col1\" >0.8898</td>\n",
       "      <td id=\"T_b5b67_row2_col2\" class=\"data row2 col2\" >0.8917</td>\n",
       "      <td id=\"T_b5b67_row2_col3\" class=\"data row2 col3\" >0.5289</td>\n",
       "      <td id=\"T_b5b67_row2_col4\" class=\"data row2 col4\" >0.6493</td>\n",
       "      <td id=\"T_b5b67_row2_col5\" class=\"data row2 col5\" >0.5797</td>\n",
       "      <td id=\"T_b5b67_row2_col6\" class=\"data row2 col6\" >0.5180</td>\n",
       "      <td id=\"T_b5b67_row2_col7\" class=\"data row2 col7\" >0.5230</td>\n",
       "      <td id=\"T_b5b67_row2_col8\" class=\"data row2 col8\" >0.0330</td>\n",
       "    </tr>\n",
       "    <tr>\n",
       "      <th id=\"T_b5b67_level0_row3\" class=\"row_heading level0 row3\" >ridge</th>\n",
       "      <td id=\"T_b5b67_row3_col0\" class=\"data row3 col0\" >Ridge Classifier</td>\n",
       "      <td id=\"T_b5b67_row3_col1\" class=\"data row3 col1\" >0.8843</td>\n",
       "      <td id=\"T_b5b67_row3_col2\" class=\"data row3 col2\" >0.0000</td>\n",
       "      <td id=\"T_b5b67_row3_col3\" class=\"data row3 col3\" >0.3570</td>\n",
       "      <td id=\"T_b5b67_row3_col4\" class=\"data row3 col4\" >0.7160</td>\n",
       "      <td id=\"T_b5b67_row3_col5\" class=\"data row3 col5\" >0.4714</td>\n",
       "      <td id=\"T_b5b67_row3_col6\" class=\"data row3 col6\" >0.4157</td>\n",
       "      <td id=\"T_b5b67_row3_col7\" class=\"data row3 col7\" >0.4495</td>\n",
       "      <td id=\"T_b5b67_row3_col8\" class=\"data row3 col8\" >0.0400</td>\n",
       "    </tr>\n",
       "    <tr>\n",
       "      <th id=\"T_b5b67_level0_row4\" class=\"row_heading level0 row4\" >rf</th>\n",
       "      <td id=\"T_b5b67_row4_col0\" class=\"data row4 col0\" >Random Forest Classifier</td>\n",
       "      <td id=\"T_b5b67_row4_col1\" class=\"data row4 col1\" >0.8811</td>\n",
       "      <td id=\"T_b5b67_row4_col2\" class=\"data row4 col2\" >0.8838</td>\n",
       "      <td id=\"T_b5b67_row4_col3\" class=\"data row4 col3\" >0.3187</td>\n",
       "      <td id=\"T_b5b67_row4_col4\" class=\"data row4 col4\" >0.7290</td>\n",
       "      <td id=\"T_b5b67_row4_col5\" class=\"data row4 col5\" >0.4379</td>\n",
       "      <td id=\"T_b5b67_row4_col6\" class=\"data row4 col6\" >0.3834</td>\n",
       "      <td id=\"T_b5b67_row4_col7\" class=\"data row4 col7\" >0.4269</td>\n",
       "      <td id=\"T_b5b67_row4_col8\" class=\"data row4 col8\" >0.1850</td>\n",
       "    </tr>\n",
       "    <tr>\n",
       "      <th id=\"T_b5b67_level0_row5\" class=\"row_heading level0 row5\" >et</th>\n",
       "      <td id=\"T_b5b67_row5_col0\" class=\"data row5 col0\" >Extra Trees Classifier</td>\n",
       "      <td id=\"T_b5b67_row5_col1\" class=\"data row5 col1\" >0.8795</td>\n",
       "      <td id=\"T_b5b67_row5_col2\" class=\"data row5 col2\" >0.8660</td>\n",
       "      <td id=\"T_b5b67_row5_col3\" class=\"data row5 col3\" >0.3342</td>\n",
       "      <td id=\"T_b5b67_row5_col4\" class=\"data row5 col4\" >0.7012</td>\n",
       "      <td id=\"T_b5b67_row5_col5\" class=\"data row5 col5\" >0.4451</td>\n",
       "      <td id=\"T_b5b67_row5_col6\" class=\"data row5 col6\" >0.3877</td>\n",
       "      <td id=\"T_b5b67_row5_col7\" class=\"data row5 col7\" >0.4251</td>\n",
       "      <td id=\"T_b5b67_row5_col8\" class=\"data row5 col8\" >0.1460</td>\n",
       "    </tr>\n",
       "    <tr>\n",
       "      <th id=\"T_b5b67_level0_row6\" class=\"row_heading level0 row6\" >lightgbm</th>\n",
       "      <td id=\"T_b5b67_row6_col0\" class=\"data row6 col0\" >Light Gradient Boosting Machine</td>\n",
       "      <td id=\"T_b5b67_row6_col1\" class=\"data row6 col1\" >0.8787</td>\n",
       "      <td id=\"T_b5b67_row6_col2\" class=\"data row6 col2\" >0.8980</td>\n",
       "      <td id=\"T_b5b67_row6_col3\" class=\"data row6 col3\" >0.4213</td>\n",
       "      <td id=\"T_b5b67_row6_col4\" class=\"data row6 col4\" >0.6395</td>\n",
       "      <td id=\"T_b5b67_row6_col5\" class=\"data row6 col5\" >0.5050</td>\n",
       "      <td id=\"T_b5b67_row6_col6\" class=\"data row6 col6\" >0.4394</td>\n",
       "      <td id=\"T_b5b67_row6_col7\" class=\"data row6 col7\" >0.4534</td>\n",
       "      <td id=\"T_b5b67_row6_col8\" class=\"data row6 col8\" >0.2110</td>\n",
       "    </tr>\n",
       "    <tr>\n",
       "      <th id=\"T_b5b67_level0_row7\" class=\"row_heading level0 row7\" >lr</th>\n",
       "      <td id=\"T_b5b67_row7_col0\" class=\"data row7 col0\" >Logistic Regression</td>\n",
       "      <td id=\"T_b5b67_row7_col1\" class=\"data row7 col1\" >0.8611</td>\n",
       "      <td id=\"T_b5b67_row7_col2\" class=\"data row7 col2\" >0.8081</td>\n",
       "      <td id=\"T_b5b67_row7_col3\" class=\"data row7 col3\" >0.2500</td>\n",
       "      <td id=\"T_b5b67_row7_col4\" class=\"data row7 col4\" >0.5934</td>\n",
       "      <td id=\"T_b5b67_row7_col5\" class=\"data row7 col5\" >0.3418</td>\n",
       "      <td id=\"T_b5b67_row7_col6\" class=\"data row7 col6\" >0.2796</td>\n",
       "      <td id=\"T_b5b67_row7_col7\" class=\"data row7 col7\" >0.3164</td>\n",
       "      <td id=\"T_b5b67_row7_col8\" class=\"data row7 col8\" >0.1090</td>\n",
       "    </tr>\n",
       "    <tr>\n",
       "      <th id=\"T_b5b67_level0_row8\" class=\"row_heading level0 row8\" >dummy</th>\n",
       "      <td id=\"T_b5b67_row8_col0\" class=\"data row8 col0\" >Dummy Classifier</td>\n",
       "      <td id=\"T_b5b67_row8_col1\" class=\"data row8 col1\" >0.8524</td>\n",
       "      <td id=\"T_b5b67_row8_col2\" class=\"data row8 col2\" >0.5000</td>\n",
       "      <td id=\"T_b5b67_row8_col3\" class=\"data row8 col3\" >0.0000</td>\n",
       "      <td id=\"T_b5b67_row8_col4\" class=\"data row8 col4\" >0.0000</td>\n",
       "      <td id=\"T_b5b67_row8_col5\" class=\"data row8 col5\" >0.0000</td>\n",
       "      <td id=\"T_b5b67_row8_col6\" class=\"data row8 col6\" >0.0000</td>\n",
       "      <td id=\"T_b5b67_row8_col7\" class=\"data row8 col7\" >0.0000</td>\n",
       "      <td id=\"T_b5b67_row8_col8\" class=\"data row8 col8\" >0.0320</td>\n",
       "    </tr>\n",
       "    <tr>\n",
       "      <th id=\"T_b5b67_level0_row9\" class=\"row_heading level0 row9\" >dt</th>\n",
       "      <td id=\"T_b5b67_row9_col0\" class=\"data row9 col0\" >Decision Tree Classifier</td>\n",
       "      <td id=\"T_b5b67_row9_col1\" class=\"data row9 col1\" >0.8252</td>\n",
       "      <td id=\"T_b5b67_row9_col2\" class=\"data row9 col2\" >0.6852</td>\n",
       "      <td id=\"T_b5b67_row9_col3\" class=\"data row9 col3\" >0.4801</td>\n",
       "      <td id=\"T_b5b67_row9_col4\" class=\"data row9 col4\" >0.4281</td>\n",
       "      <td id=\"T_b5b67_row9_col5\" class=\"data row9 col5\" >0.4467</td>\n",
       "      <td id=\"T_b5b67_row9_col6\" class=\"data row9 col6\" >0.3447</td>\n",
       "      <td id=\"T_b5b67_row9_col7\" class=\"data row9 col7\" >0.3488</td>\n",
       "      <td id=\"T_b5b67_row9_col8\" class=\"data row9 col8\" >0.0430</td>\n",
       "    </tr>\n",
       "    <tr>\n",
       "      <th id=\"T_b5b67_level0_row10\" class=\"row_heading level0 row10\" >nb</th>\n",
       "      <td id=\"T_b5b67_row10_col0\" class=\"data row10 col0\" >Naive Bayes</td>\n",
       "      <td id=\"T_b5b67_row10_col1\" class=\"data row10 col1\" >0.7654</td>\n",
       "      <td id=\"T_b5b67_row10_col2\" class=\"data row10 col2\" >0.7479</td>\n",
       "      <td id=\"T_b5b67_row10_col3\" class=\"data row10 col3\" >0.5181</td>\n",
       "      <td id=\"T_b5b67_row10_col4\" class=\"data row10 col4\" >0.3229</td>\n",
       "      <td id=\"T_b5b67_row10_col5\" class=\"data row10 col5\" >0.3964</td>\n",
       "      <td id=\"T_b5b67_row10_col6\" class=\"data row10 col6\" >0.2617</td>\n",
       "      <td id=\"T_b5b67_row10_col7\" class=\"data row10 col7\" >0.2733</td>\n",
       "      <td id=\"T_b5b67_row10_col8\" class=\"data row10 col8\" >0.0410</td>\n",
       "    </tr>\n",
       "    <tr>\n",
       "      <th id=\"T_b5b67_level0_row11\" class=\"row_heading level0 row11\" >svm</th>\n",
       "      <td id=\"T_b5b67_row11_col0\" class=\"data row11 col0\" >SVM - Linear Kernel</td>\n",
       "      <td id=\"T_b5b67_row11_col1\" class=\"data row11 col1\" >0.7540</td>\n",
       "      <td id=\"T_b5b67_row11_col2\" class=\"data row11 col2\" >0.0000</td>\n",
       "      <td id=\"T_b5b67_row11_col3\" class=\"data row11 col3\" >0.2319</td>\n",
       "      <td id=\"T_b5b67_row11_col4\" class=\"data row11 col4\" >0.1518</td>\n",
       "      <td id=\"T_b5b67_row11_col5\" class=\"data row11 col5\" >0.1284</td>\n",
       "      <td id=\"T_b5b67_row11_col6\" class=\"data row11 col6\" >0.0623</td>\n",
       "      <td id=\"T_b5b67_row11_col7\" class=\"data row11 col7\" >0.0738</td>\n",
       "      <td id=\"T_b5b67_row11_col8\" class=\"data row11 col8\" >0.0490</td>\n",
       "    </tr>\n",
       "    <tr>\n",
       "      <th id=\"T_b5b67_level0_row12\" class=\"row_heading level0 row12\" >qda</th>\n",
       "      <td id=\"T_b5b67_row12_col0\" class=\"data row12 col0\" >Quadratic Discriminant Analysis</td>\n",
       "      <td id=\"T_b5b67_row12_col1\" class=\"data row12 col1\" >0.1899</td>\n",
       "      <td id=\"T_b5b67_row12_col2\" class=\"data row12 col2\" >0.8296</td>\n",
       "      <td id=\"T_b5b67_row12_col3\" class=\"data row12 col3\" >0.9947</td>\n",
       "      <td id=\"T_b5b67_row12_col4\" class=\"data row12 col4\" >0.1537</td>\n",
       "      <td id=\"T_b5b67_row12_col5\" class=\"data row12 col5\" >0.2662</td>\n",
       "      <td id=\"T_b5b67_row12_col6\" class=\"data row12 col6\" >0.0140</td>\n",
       "      <td id=\"T_b5b67_row12_col7\" class=\"data row12 col7\" >0.0776</td>\n",
       "      <td id=\"T_b5b67_row12_col8\" class=\"data row12 col8\" >0.0410</td>\n",
       "    </tr>\n",
       "  </tbody>\n",
       "</table>\n"
      ],
      "text/plain": [
       "<pandas.io.formats.style.Styler at 0x2287efe0bb0>"
      ]
     },
     "metadata": {},
     "output_type": "display_data"
    },
    {
     "data": {
      "text/html": [],
      "text/plain": [
       "<IPython.core.display.HTML object>"
      ]
     },
     "metadata": {},
     "output_type": "display_data"
    },
    {
     "data": {
      "text/html": [
       "<style>#sk-container-id-2 {color: black;background-color: white;}#sk-container-id-2 pre{padding: 0;}#sk-container-id-2 div.sk-toggleable {background-color: white;}#sk-container-id-2 label.sk-toggleable__label {cursor: pointer;display: block;width: 100%;margin-bottom: 0;padding: 0.3em;box-sizing: border-box;text-align: center;}#sk-container-id-2 label.sk-toggleable__label-arrow:before {content: \"▸\";float: left;margin-right: 0.25em;color: #696969;}#sk-container-id-2 label.sk-toggleable__label-arrow:hover:before {color: black;}#sk-container-id-2 div.sk-estimator:hover label.sk-toggleable__label-arrow:before {color: black;}#sk-container-id-2 div.sk-toggleable__content {max-height: 0;max-width: 0;overflow: hidden;text-align: left;background-color: #f0f8ff;}#sk-container-id-2 div.sk-toggleable__content pre {margin: 0.2em;color: black;border-radius: 0.25em;background-color: #f0f8ff;}#sk-container-id-2 input.sk-toggleable__control:checked~div.sk-toggleable__content {max-height: 200px;max-width: 100%;overflow: auto;}#sk-container-id-2 input.sk-toggleable__control:checked~label.sk-toggleable__label-arrow:before {content: \"▾\";}#sk-container-id-2 div.sk-estimator input.sk-toggleable__control:checked~label.sk-toggleable__label {background-color: #d4ebff;}#sk-container-id-2 div.sk-label input.sk-toggleable__control:checked~label.sk-toggleable__label {background-color: #d4ebff;}#sk-container-id-2 input.sk-hidden--visually {border: 0;clip: rect(1px 1px 1px 1px);clip: rect(1px, 1px, 1px, 1px);height: 1px;margin: -1px;overflow: hidden;padding: 0;position: absolute;width: 1px;}#sk-container-id-2 div.sk-estimator {font-family: monospace;background-color: #f0f8ff;border: 1px dotted black;border-radius: 0.25em;box-sizing: border-box;margin-bottom: 0.5em;}#sk-container-id-2 div.sk-estimator:hover {background-color: #d4ebff;}#sk-container-id-2 div.sk-parallel-item::after {content: \"\";width: 100%;border-bottom: 1px solid gray;flex-grow: 1;}#sk-container-id-2 div.sk-label:hover label.sk-toggleable__label {background-color: #d4ebff;}#sk-container-id-2 div.sk-serial::before {content: \"\";position: absolute;border-left: 1px solid gray;box-sizing: border-box;top: 0;bottom: 0;left: 50%;z-index: 0;}#sk-container-id-2 div.sk-serial {display: flex;flex-direction: column;align-items: center;background-color: white;padding-right: 0.2em;padding-left: 0.2em;position: relative;}#sk-container-id-2 div.sk-item {position: relative;z-index: 1;}#sk-container-id-2 div.sk-parallel {display: flex;align-items: stretch;justify-content: center;background-color: white;position: relative;}#sk-container-id-2 div.sk-item::before, #sk-container-id-2 div.sk-parallel-item::before {content: \"\";position: absolute;border-left: 1px solid gray;box-sizing: border-box;top: 0;bottom: 0;left: 50%;z-index: -1;}#sk-container-id-2 div.sk-parallel-item {display: flex;flex-direction: column;z-index: 1;position: relative;background-color: white;}#sk-container-id-2 div.sk-parallel-item:first-child::after {align-self: flex-end;width: 50%;}#sk-container-id-2 div.sk-parallel-item:last-child::after {align-self: flex-start;width: 50%;}#sk-container-id-2 div.sk-parallel-item:only-child::after {width: 0;}#sk-container-id-2 div.sk-dashed-wrapped {border: 1px dashed gray;margin: 0 0.4em 0.5em 0.4em;box-sizing: border-box;padding-bottom: 0.4em;background-color: white;}#sk-container-id-2 div.sk-label label {font-family: monospace;font-weight: bold;display: inline-block;line-height: 1.2em;}#sk-container-id-2 div.sk-label-container {text-align: center;}#sk-container-id-2 div.sk-container {/* jupyter's `normalize.less` sets `[hidden] { display: none; }` but bootstrap.min.css set `[hidden] { display: none !important; }` so we also need the `!important` here to be able to override the default hidden behavior on the sphinx rendered scikit-learn.org. See: https://github.com/scikit-learn/scikit-learn/issues/21755 */display: inline-block !important;position: relative;}#sk-container-id-2 div.sk-text-repr-fallback {display: none;}</style><div id=\"sk-container-id-2\" class=\"sk-top-container\"><div class=\"sk-text-repr-fallback\"><pre>AdaBoostClassifier(algorithm=&#x27;SAMME.R&#x27;, base_estimator=&#x27;deprecated&#x27;,\n",
       "                   estimator=None, learning_rate=1.0, n_estimators=50,\n",
       "                   random_state=123)</pre><b>In a Jupyter environment, please rerun this cell to show the HTML representation or trust the notebook. <br />On GitHub, the HTML representation is unable to render, please try loading this page with nbviewer.org.</b></div><div class=\"sk-container\" hidden><div class=\"sk-item\"><div class=\"sk-estimator sk-toggleable\"><input class=\"sk-toggleable__control sk-hidden--visually\" id=\"sk-estimator-id-2\" type=\"checkbox\" checked><label for=\"sk-estimator-id-2\" class=\"sk-toggleable__label sk-toggleable__label-arrow\">AdaBoostClassifier</label><div class=\"sk-toggleable__content\"><pre>AdaBoostClassifier(algorithm=&#x27;SAMME.R&#x27;, base_estimator=&#x27;deprecated&#x27;,\n",
       "                   estimator=None, learning_rate=1.0, n_estimators=50,\n",
       "                   random_state=123)</pre></div></div></div></div></div>"
      ],
      "text/plain": [
       "AdaBoostClassifier(algorithm='SAMME.R', base_estimator='deprecated',\n",
       "                   estimator=None, learning_rate=1.0, n_estimators=50,\n",
       "                   random_state=123)"
      ]
     },
     "execution_count": 10,
     "metadata": {},
     "output_type": "execute_result"
    }
   ],
   "source": [
    "## lightgbm has the greatest AUC\n",
    "## Assumption: there's limited budget to send out marketing campaigns so we want to decrease the amount sent to customers\n",
    "## -> optimise recall\n",
    "\n",
    "compare_models()"
   ]
  },
  {
   "cell_type": "code",
   "execution_count": 11,
   "metadata": {},
   "outputs": [
    {
     "data": {
      "text/html": [],
      "text/plain": [
       "<IPython.core.display.HTML object>"
      ]
     },
     "metadata": {},
     "output_type": "display_data"
    },
    {
     "data": {
      "text/html": [
       "<style type=\"text/css\">\n",
       "#T_6604a_row10_col0, #T_6604a_row10_col1, #T_6604a_row10_col2, #T_6604a_row10_col3, #T_6604a_row10_col4, #T_6604a_row10_col5, #T_6604a_row10_col6 {\n",
       "  background: yellow;\n",
       "}\n",
       "</style>\n",
       "<table id=\"T_6604a\">\n",
       "  <thead>\n",
       "    <tr>\n",
       "      <th class=\"blank level0\" >&nbsp;</th>\n",
       "      <th id=\"T_6604a_level0_col0\" class=\"col_heading level0 col0\" >Accuracy</th>\n",
       "      <th id=\"T_6604a_level0_col1\" class=\"col_heading level0 col1\" >AUC</th>\n",
       "      <th id=\"T_6604a_level0_col2\" class=\"col_heading level0 col2\" >Recall</th>\n",
       "      <th id=\"T_6604a_level0_col3\" class=\"col_heading level0 col3\" >Prec.</th>\n",
       "      <th id=\"T_6604a_level0_col4\" class=\"col_heading level0 col4\" >F1</th>\n",
       "      <th id=\"T_6604a_level0_col5\" class=\"col_heading level0 col5\" >Kappa</th>\n",
       "      <th id=\"T_6604a_level0_col6\" class=\"col_heading level0 col6\" >MCC</th>\n",
       "    </tr>\n",
       "    <tr>\n",
       "      <th class=\"index_name level0\" >Fold</th>\n",
       "      <th class=\"blank col0\" >&nbsp;</th>\n",
       "      <th class=\"blank col1\" >&nbsp;</th>\n",
       "      <th class=\"blank col2\" >&nbsp;</th>\n",
       "      <th class=\"blank col3\" >&nbsp;</th>\n",
       "      <th class=\"blank col4\" >&nbsp;</th>\n",
       "      <th class=\"blank col5\" >&nbsp;</th>\n",
       "      <th class=\"blank col6\" >&nbsp;</th>\n",
       "    </tr>\n",
       "  </thead>\n",
       "  <tbody>\n",
       "    <tr>\n",
       "      <th id=\"T_6604a_level0_row0\" class=\"row_heading level0 row0\" >0</th>\n",
       "      <td id=\"T_6604a_row0_col0\" class=\"data row0 col0\" >0.8968</td>\n",
       "      <td id=\"T_6604a_row0_col1\" class=\"data row0 col1\" >0.8421</td>\n",
       "      <td id=\"T_6604a_row0_col2\" class=\"data row0 col2\" >0.4211</td>\n",
       "      <td id=\"T_6604a_row0_col3\" class=\"data row0 col3\" >0.8000</td>\n",
       "      <td id=\"T_6604a_row0_col4\" class=\"data row0 col4\" >0.5517</td>\n",
       "      <td id=\"T_6604a_row0_col5\" class=\"data row0 col5\" >0.4997</td>\n",
       "      <td id=\"T_6604a_row0_col6\" class=\"data row0 col6\" >0.5327</td>\n",
       "    </tr>\n",
       "    <tr>\n",
       "      <th id=\"T_6604a_level0_row1\" class=\"row_heading level0 row1\" >1</th>\n",
       "      <td id=\"T_6604a_row1_col0\" class=\"data row1 col0\" >0.8889</td>\n",
       "      <td id=\"T_6604a_row1_col1\" class=\"data row1 col1\" >0.9479</td>\n",
       "      <td id=\"T_6604a_row1_col2\" class=\"data row1 col2\" >0.4737</td>\n",
       "      <td id=\"T_6604a_row1_col3\" class=\"data row1 col3\" >0.6923</td>\n",
       "      <td id=\"T_6604a_row1_col4\" class=\"data row1 col4\" >0.5625</td>\n",
       "      <td id=\"T_6604a_row1_col5\" class=\"data row1 col5\" >0.5014</td>\n",
       "      <td id=\"T_6604a_row1_col6\" class=\"data row1 col6\" >0.5133</td>\n",
       "    </tr>\n",
       "    <tr>\n",
       "      <th id=\"T_6604a_level0_row2\" class=\"row_heading level0 row2\" >2</th>\n",
       "      <td id=\"T_6604a_row2_col0\" class=\"data row2 col0\" >0.8889</td>\n",
       "      <td id=\"T_6604a_row2_col1\" class=\"data row2 col1\" >0.9319</td>\n",
       "      <td id=\"T_6604a_row2_col2\" class=\"data row2 col2\" >0.3684</td>\n",
       "      <td id=\"T_6604a_row2_col3\" class=\"data row2 col3\" >0.7778</td>\n",
       "      <td id=\"T_6604a_row2_col4\" class=\"data row2 col4\" >0.5000</td>\n",
       "      <td id=\"T_6604a_row2_col5\" class=\"data row2 col5\" >0.4463</td>\n",
       "      <td id=\"T_6604a_row2_col6\" class=\"data row2 col6\" >0.4859</td>\n",
       "    </tr>\n",
       "    <tr>\n",
       "      <th id=\"T_6604a_level0_row3\" class=\"row_heading level0 row3\" >3</th>\n",
       "      <td id=\"T_6604a_row3_col0\" class=\"data row3 col0\" >0.8560</td>\n",
       "      <td id=\"T_6604a_row3_col1\" class=\"data row3 col1\" >0.8734</td>\n",
       "      <td id=\"T_6604a_row3_col2\" class=\"data row3 col2\" >0.3684</td>\n",
       "      <td id=\"T_6604a_row3_col3\" class=\"data row3 col3\" >0.5385</td>\n",
       "      <td id=\"T_6604a_row3_col4\" class=\"data row3 col4\" >0.4375</td>\n",
       "      <td id=\"T_6604a_row3_col5\" class=\"data row3 col5\" >0.3582</td>\n",
       "      <td id=\"T_6604a_row3_col6\" class=\"data row3 col6\" >0.3667</td>\n",
       "    </tr>\n",
       "    <tr>\n",
       "      <th id=\"T_6604a_level0_row4\" class=\"row_heading level0 row4\" >4</th>\n",
       "      <td id=\"T_6604a_row4_col0\" class=\"data row4 col0\" >0.8960</td>\n",
       "      <td id=\"T_6604a_row4_col1\" class=\"data row4 col1\" >0.9494</td>\n",
       "      <td id=\"T_6604a_row4_col2\" class=\"data row4 col2\" >0.5263</td>\n",
       "      <td id=\"T_6604a_row4_col3\" class=\"data row4 col3\" >0.7143</td>\n",
       "      <td id=\"T_6604a_row4_col4\" class=\"data row4 col4\" >0.6061</td>\n",
       "      <td id=\"T_6604a_row4_col5\" class=\"data row4 col5\" >0.5477</td>\n",
       "      <td id=\"T_6604a_row4_col6\" class=\"data row4 col6\" >0.5562</td>\n",
       "    </tr>\n",
       "    <tr>\n",
       "      <th id=\"T_6604a_level0_row5\" class=\"row_heading level0 row5\" >5</th>\n",
       "      <td id=\"T_6604a_row5_col0\" class=\"data row5 col0\" >0.8560</td>\n",
       "      <td id=\"T_6604a_row5_col1\" class=\"data row5 col1\" >0.8609</td>\n",
       "      <td id=\"T_6604a_row5_col2\" class=\"data row5 col2\" >0.3333</td>\n",
       "      <td id=\"T_6604a_row5_col3\" class=\"data row5 col3\" >0.5000</td>\n",
       "      <td id=\"T_6604a_row5_col4\" class=\"data row5 col4\" >0.4000</td>\n",
       "      <td id=\"T_6604a_row5_col5\" class=\"data row5 col5\" >0.3219</td>\n",
       "      <td id=\"T_6604a_row5_col6\" class=\"data row5 col6\" >0.3304</td>\n",
       "    </tr>\n",
       "    <tr>\n",
       "      <th id=\"T_6604a_level0_row6\" class=\"row_heading level0 row6\" >6</th>\n",
       "      <td id=\"T_6604a_row6_col0\" class=\"data row6 col0\" >0.9280</td>\n",
       "      <td id=\"T_6604a_row6_col1\" class=\"data row6 col1\" >0.9538</td>\n",
       "      <td id=\"T_6604a_row6_col2\" class=\"data row6 col2\" >0.6111</td>\n",
       "      <td id=\"T_6604a_row6_col3\" class=\"data row6 col3\" >0.8462</td>\n",
       "      <td id=\"T_6604a_row6_col4\" class=\"data row6 col4\" >0.7097</td>\n",
       "      <td id=\"T_6604a_row6_col5\" class=\"data row6 col5\" >0.6698</td>\n",
       "      <td id=\"T_6604a_row6_col6\" class=\"data row6 col6\" >0.6814</td>\n",
       "    </tr>\n",
       "    <tr>\n",
       "      <th id=\"T_6604a_level0_row7\" class=\"row_heading level0 row7\" >7</th>\n",
       "      <td id=\"T_6604a_row7_col0\" class=\"data row7 col0\" >0.8480</td>\n",
       "      <td id=\"T_6604a_row7_col1\" class=\"data row7 col1\" >0.8951</td>\n",
       "      <td id=\"T_6604a_row7_col2\" class=\"data row7 col2\" >0.2778</td>\n",
       "      <td id=\"T_6604a_row7_col3\" class=\"data row7 col3\" >0.4545</td>\n",
       "      <td id=\"T_6604a_row7_col4\" class=\"data row7 col4\" >0.3448</td>\n",
       "      <td id=\"T_6604a_row7_col5\" class=\"data row7 col5\" >0.2645</td>\n",
       "      <td id=\"T_6604a_row7_col6\" class=\"data row7 col6\" >0.2748</td>\n",
       "    </tr>\n",
       "    <tr>\n",
       "      <th id=\"T_6604a_level0_row8\" class=\"row_heading level0 row8\" >8</th>\n",
       "      <td id=\"T_6604a_row8_col0\" class=\"data row8 col0\" >0.8560</td>\n",
       "      <td id=\"T_6604a_row8_col1\" class=\"data row8 col1\" >0.8712</td>\n",
       "      <td id=\"T_6604a_row8_col2\" class=\"data row8 col2\" >0.3889</td>\n",
       "      <td id=\"T_6604a_row8_col3\" class=\"data row8 col3\" >0.5000</td>\n",
       "      <td id=\"T_6604a_row8_col4\" class=\"data row8 col4\" >0.4375</td>\n",
       "      <td id=\"T_6604a_row8_col5\" class=\"data row8 col5\" >0.3564</td>\n",
       "      <td id=\"T_6604a_row8_col6\" class=\"data row8 col6\" >0.3601</td>\n",
       "    </tr>\n",
       "    <tr>\n",
       "      <th id=\"T_6604a_level0_row9\" class=\"row_heading level0 row9\" >9</th>\n",
       "      <td id=\"T_6604a_row9_col0\" class=\"data row9 col0\" >0.8720</td>\n",
       "      <td id=\"T_6604a_row9_col1\" class=\"data row9 col1\" >0.8541</td>\n",
       "      <td id=\"T_6604a_row9_col2\" class=\"data row9 col2\" >0.4444</td>\n",
       "      <td id=\"T_6604a_row9_col3\" class=\"data row9 col3\" >0.5714</td>\n",
       "      <td id=\"T_6604a_row9_col4\" class=\"data row9 col4\" >0.5000</td>\n",
       "      <td id=\"T_6604a_row9_col5\" class=\"data row9 col5\" >0.4279</td>\n",
       "      <td id=\"T_6604a_row9_col6\" class=\"data row9 col6\" >0.4324</td>\n",
       "    </tr>\n",
       "    <tr>\n",
       "      <th id=\"T_6604a_level0_row10\" class=\"row_heading level0 row10\" >Mean</th>\n",
       "      <td id=\"T_6604a_row10_col0\" class=\"data row10 col0\" >0.8787</td>\n",
       "      <td id=\"T_6604a_row10_col1\" class=\"data row10 col1\" >0.8980</td>\n",
       "      <td id=\"T_6604a_row10_col2\" class=\"data row10 col2\" >0.4213</td>\n",
       "      <td id=\"T_6604a_row10_col3\" class=\"data row10 col3\" >0.6395</td>\n",
       "      <td id=\"T_6604a_row10_col4\" class=\"data row10 col4\" >0.5050</td>\n",
       "      <td id=\"T_6604a_row10_col5\" class=\"data row10 col5\" >0.4394</td>\n",
       "      <td id=\"T_6604a_row10_col6\" class=\"data row10 col6\" >0.4534</td>\n",
       "    </tr>\n",
       "    <tr>\n",
       "      <th id=\"T_6604a_level0_row11\" class=\"row_heading level0 row11\" >Std</th>\n",
       "      <td id=\"T_6604a_row11_col0\" class=\"data row11 col0\" >0.0241</td>\n",
       "      <td id=\"T_6604a_row11_col1\" class=\"data row11 col1\" >0.0414</td>\n",
       "      <td id=\"T_6604a_row11_col2\" class=\"data row11 col2\" >0.0924</td>\n",
       "      <td id=\"T_6604a_row11_col3\" class=\"data row11 col3\" >0.1356</td>\n",
       "      <td id=\"T_6604a_row11_col4\" class=\"data row11 col4\" >0.1017</td>\n",
       "      <td id=\"T_6604a_row11_col5\" class=\"data row11 col5\" >0.1142</td>\n",
       "      <td id=\"T_6604a_row11_col6\" class=\"data row11 col6\" >0.1171</td>\n",
       "    </tr>\n",
       "  </tbody>\n",
       "</table>\n"
      ],
      "text/plain": [
       "<pandas.io.formats.style.Styler at 0x2287f1e9f70>"
      ]
     },
     "metadata": {},
     "output_type": "display_data"
    },
    {
     "data": {
      "text/html": [],
      "text/plain": [
       "<IPython.core.display.HTML object>"
      ]
     },
     "metadata": {},
     "output_type": "display_data"
    }
   ],
   "source": [
    "lightgbm = create_model('lightgbm') "
   ]
  },
  {
   "cell_type": "code",
   "execution_count": 12,
   "metadata": {},
   "outputs": [
    {
     "data": {
      "text/html": [],
      "text/plain": [
       "<IPython.core.display.HTML object>"
      ]
     },
     "metadata": {},
     "output_type": "display_data"
    },
    {
     "data": {
      "text/html": [
       "<style type=\"text/css\">\n",
       "#T_94493_row10_col0, #T_94493_row10_col1, #T_94493_row10_col2, #T_94493_row10_col3, #T_94493_row10_col4, #T_94493_row10_col5, #T_94493_row10_col6 {\n",
       "  background: yellow;\n",
       "}\n",
       "</style>\n",
       "<table id=\"T_94493\">\n",
       "  <thead>\n",
       "    <tr>\n",
       "      <th class=\"blank level0\" >&nbsp;</th>\n",
       "      <th id=\"T_94493_level0_col0\" class=\"col_heading level0 col0\" >Accuracy</th>\n",
       "      <th id=\"T_94493_level0_col1\" class=\"col_heading level0 col1\" >AUC</th>\n",
       "      <th id=\"T_94493_level0_col2\" class=\"col_heading level0 col2\" >Recall</th>\n",
       "      <th id=\"T_94493_level0_col3\" class=\"col_heading level0 col3\" >Prec.</th>\n",
       "      <th id=\"T_94493_level0_col4\" class=\"col_heading level0 col4\" >F1</th>\n",
       "      <th id=\"T_94493_level0_col5\" class=\"col_heading level0 col5\" >Kappa</th>\n",
       "      <th id=\"T_94493_level0_col6\" class=\"col_heading level0 col6\" >MCC</th>\n",
       "    </tr>\n",
       "    <tr>\n",
       "      <th class=\"index_name level0\" >Fold</th>\n",
       "      <th class=\"blank col0\" >&nbsp;</th>\n",
       "      <th class=\"blank col1\" >&nbsp;</th>\n",
       "      <th class=\"blank col2\" >&nbsp;</th>\n",
       "      <th class=\"blank col3\" >&nbsp;</th>\n",
       "      <th class=\"blank col4\" >&nbsp;</th>\n",
       "      <th class=\"blank col5\" >&nbsp;</th>\n",
       "      <th class=\"blank col6\" >&nbsp;</th>\n",
       "    </tr>\n",
       "  </thead>\n",
       "  <tbody>\n",
       "    <tr>\n",
       "      <th id=\"T_94493_level0_row0\" class=\"row_heading level0 row0\" >0</th>\n",
       "      <td id=\"T_94493_row0_col0\" class=\"data row0 col0\" >0.8968</td>\n",
       "      <td id=\"T_94493_row0_col1\" class=\"data row0 col1\" >0.8618</td>\n",
       "      <td id=\"T_94493_row0_col2\" class=\"data row0 col2\" >0.4211</td>\n",
       "      <td id=\"T_94493_row0_col3\" class=\"data row0 col3\" >0.8000</td>\n",
       "      <td id=\"T_94493_row0_col4\" class=\"data row0 col4\" >0.5517</td>\n",
       "      <td id=\"T_94493_row0_col5\" class=\"data row0 col5\" >0.4997</td>\n",
       "      <td id=\"T_94493_row0_col6\" class=\"data row0 col6\" >0.5327</td>\n",
       "    </tr>\n",
       "    <tr>\n",
       "      <th id=\"T_94493_level0_row1\" class=\"row_heading level0 row1\" >1</th>\n",
       "      <td id=\"T_94493_row1_col0\" class=\"data row1 col0\" >0.8968</td>\n",
       "      <td id=\"T_94493_row1_col1\" class=\"data row1 col1\" >0.9306</td>\n",
       "      <td id=\"T_94493_row1_col2\" class=\"data row1 col2\" >0.4737</td>\n",
       "      <td id=\"T_94493_row1_col3\" class=\"data row1 col3\" >0.7500</td>\n",
       "      <td id=\"T_94493_row1_col4\" class=\"data row1 col4\" >0.5806</td>\n",
       "      <td id=\"T_94493_row1_col5\" class=\"data row1 col5\" >0.5252</td>\n",
       "      <td id=\"T_94493_row1_col6\" class=\"data row1 col6\" >0.5433</td>\n",
       "    </tr>\n",
       "    <tr>\n",
       "      <th id=\"T_94493_level0_row2\" class=\"row_heading level0 row2\" >2</th>\n",
       "      <td id=\"T_94493_row2_col0\" class=\"data row2 col0\" >0.8810</td>\n",
       "      <td id=\"T_94493_row2_col1\" class=\"data row2 col1\" >0.9279</td>\n",
       "      <td id=\"T_94493_row2_col2\" class=\"data row2 col2\" >0.3158</td>\n",
       "      <td id=\"T_94493_row2_col3\" class=\"data row2 col3\" >0.7500</td>\n",
       "      <td id=\"T_94493_row2_col4\" class=\"data row2 col4\" >0.4444</td>\n",
       "      <td id=\"T_94493_row2_col5\" class=\"data row2 col5\" >0.3899</td>\n",
       "      <td id=\"T_94493_row2_col6\" class=\"data row2 col6\" >0.4360</td>\n",
       "    </tr>\n",
       "    <tr>\n",
       "      <th id=\"T_94493_level0_row3\" class=\"row_heading level0 row3\" >3</th>\n",
       "      <td id=\"T_94493_row3_col0\" class=\"data row3 col0\" >0.8560</td>\n",
       "      <td id=\"T_94493_row3_col1\" class=\"data row3 col1\" >0.8431</td>\n",
       "      <td id=\"T_94493_row3_col2\" class=\"data row3 col2\" >0.3684</td>\n",
       "      <td id=\"T_94493_row3_col3\" class=\"data row3 col3\" >0.5385</td>\n",
       "      <td id=\"T_94493_row3_col4\" class=\"data row3 col4\" >0.4375</td>\n",
       "      <td id=\"T_94493_row3_col5\" class=\"data row3 col5\" >0.3582</td>\n",
       "      <td id=\"T_94493_row3_col6\" class=\"data row3 col6\" >0.3667</td>\n",
       "    </tr>\n",
       "    <tr>\n",
       "      <th id=\"T_94493_level0_row4\" class=\"row_heading level0 row4\" >4</th>\n",
       "      <td id=\"T_94493_row4_col0\" class=\"data row4 col0\" >0.9040</td>\n",
       "      <td id=\"T_94493_row4_col1\" class=\"data row4 col1\" >0.9429</td>\n",
       "      <td id=\"T_94493_row4_col2\" class=\"data row4 col2\" >0.5263</td>\n",
       "      <td id=\"T_94493_row4_col3\" class=\"data row4 col3\" >0.7692</td>\n",
       "      <td id=\"T_94493_row4_col4\" class=\"data row4 col4\" >0.6250</td>\n",
       "      <td id=\"T_94493_row4_col5\" class=\"data row4 col5\" >0.5722</td>\n",
       "      <td id=\"T_94493_row4_col6\" class=\"data row4 col6\" >0.5857</td>\n",
       "    </tr>\n",
       "    <tr>\n",
       "      <th id=\"T_94493_level0_row5\" class=\"row_heading level0 row5\" >5</th>\n",
       "      <td id=\"T_94493_row5_col0\" class=\"data row5 col0\" >0.8640</td>\n",
       "      <td id=\"T_94493_row5_col1\" class=\"data row5 col1\" >0.8832</td>\n",
       "      <td id=\"T_94493_row5_col2\" class=\"data row5 col2\" >0.3333</td>\n",
       "      <td id=\"T_94493_row5_col3\" class=\"data row5 col3\" >0.5455</td>\n",
       "      <td id=\"T_94493_row5_col4\" class=\"data row5 col4\" >0.4138</td>\n",
       "      <td id=\"T_94493_row5_col5\" class=\"data row5 col5\" >0.3419</td>\n",
       "      <td id=\"T_94493_row5_col6\" class=\"data row5 col6\" >0.3552</td>\n",
       "    </tr>\n",
       "    <tr>\n",
       "      <th id=\"T_94493_level0_row6\" class=\"row_heading level0 row6\" >6</th>\n",
       "      <td id=\"T_94493_row6_col0\" class=\"data row6 col0\" >0.9200</td>\n",
       "      <td id=\"T_94493_row6_col1\" class=\"data row6 col1\" >0.9569</td>\n",
       "      <td id=\"T_94493_row6_col2\" class=\"data row6 col2\" >0.6111</td>\n",
       "      <td id=\"T_94493_row6_col3\" class=\"data row6 col3\" >0.7857</td>\n",
       "      <td id=\"T_94493_row6_col4\" class=\"data row6 col4\" >0.6875</td>\n",
       "      <td id=\"T_94493_row6_col5\" class=\"data row6 col5\" >0.6424</td>\n",
       "      <td id=\"T_94493_row6_col6\" class=\"data row6 col6\" >0.6491</td>\n",
       "    </tr>\n",
       "    <tr>\n",
       "      <th id=\"T_94493_level0_row7\" class=\"row_heading level0 row7\" >7</th>\n",
       "      <td id=\"T_94493_row7_col0\" class=\"data row7 col0\" >0.8640</td>\n",
       "      <td id=\"T_94493_row7_col1\" class=\"data row7 col1\" >0.9008</td>\n",
       "      <td id=\"T_94493_row7_col2\" class=\"data row7 col2\" >0.3889</td>\n",
       "      <td id=\"T_94493_row7_col3\" class=\"data row7 col3\" >0.5385</td>\n",
       "      <td id=\"T_94493_row7_col4\" class=\"data row7 col4\" >0.4516</td>\n",
       "      <td id=\"T_94493_row7_col5\" class=\"data row7 col5\" >0.3763</td>\n",
       "      <td id=\"T_94493_row7_col6\" class=\"data row7 col6\" >0.3828</td>\n",
       "    </tr>\n",
       "    <tr>\n",
       "      <th id=\"T_94493_level0_row8\" class=\"row_heading level0 row8\" >8</th>\n",
       "      <td id=\"T_94493_row8_col0\" class=\"data row8 col0\" >0.8960</td>\n",
       "      <td id=\"T_94493_row8_col1\" class=\"data row8 col1\" >0.8686</td>\n",
       "      <td id=\"T_94493_row8_col2\" class=\"data row8 col2\" >0.4444</td>\n",
       "      <td id=\"T_94493_row8_col3\" class=\"data row8 col3\" >0.7273</td>\n",
       "      <td id=\"T_94493_row8_col4\" class=\"data row8 col4\" >0.5517</td>\n",
       "      <td id=\"T_94493_row8_col5\" class=\"data row8 col5\" >0.4967</td>\n",
       "      <td id=\"T_94493_row8_col6\" class=\"data row8 col6\" >0.5161</td>\n",
       "    </tr>\n",
       "    <tr>\n",
       "      <th id=\"T_94493_level0_row9\" class=\"row_heading level0 row9\" >9</th>\n",
       "      <td id=\"T_94493_row9_col0\" class=\"data row9 col0\" >0.9040</td>\n",
       "      <td id=\"T_94493_row9_col1\" class=\"data row9 col1\" >0.8427</td>\n",
       "      <td id=\"T_94493_row9_col2\" class=\"data row9 col2\" >0.3333</td>\n",
       "      <td id=\"T_94493_row9_col3\" class=\"data row9 col3\" >1.0000</td>\n",
       "      <td id=\"T_94493_row9_col4\" class=\"data row9 col4\" >0.5000</td>\n",
       "      <td id=\"T_94493_row9_col5\" class=\"data row9 col5\" >0.4612</td>\n",
       "      <td id=\"T_94493_row9_col6\" class=\"data row9 col6\" >0.5475</td>\n",
       "    </tr>\n",
       "    <tr>\n",
       "      <th id=\"T_94493_level0_row10\" class=\"row_heading level0 row10\" >Mean</th>\n",
       "      <td id=\"T_94493_row10_col0\" class=\"data row10 col0\" >0.8883</td>\n",
       "      <td id=\"T_94493_row10_col1\" class=\"data row10 col1\" >0.8959</td>\n",
       "      <td id=\"T_94493_row10_col2\" class=\"data row10 col2\" >0.4216</td>\n",
       "      <td id=\"T_94493_row10_col3\" class=\"data row10 col3\" >0.7205</td>\n",
       "      <td id=\"T_94493_row10_col4\" class=\"data row10 col4\" >0.5244</td>\n",
       "      <td id=\"T_94493_row10_col5\" class=\"data row10 col5\" >0.4664</td>\n",
       "      <td id=\"T_94493_row10_col6\" class=\"data row10 col6\" >0.4915</td>\n",
       "    </tr>\n",
       "    <tr>\n",
       "      <th id=\"T_94493_level0_row11\" class=\"row_heading level0 row11\" >Std</th>\n",
       "      <td id=\"T_94493_row11_col0\" class=\"data row11 col0\" >0.0200</td>\n",
       "      <td id=\"T_94493_row11_col1\" class=\"data row11 col1\" >0.0398</td>\n",
       "      <td id=\"T_94493_row11_col2\" class=\"data row11 col2\" >0.0899</td>\n",
       "      <td id=\"T_94493_row11_col3\" class=\"data row11 col3\" >0.1378</td>\n",
       "      <td id=\"T_94493_row11_col4\" class=\"data row11 col4\" >0.0857</td>\n",
       "      <td id=\"T_94493_row11_col5\" class=\"data row11 col5\" >0.0943</td>\n",
       "      <td id=\"T_94493_row11_col6\" class=\"data row11 col6\" >0.0953</td>\n",
       "    </tr>\n",
       "  </tbody>\n",
       "</table>\n"
      ],
      "text/plain": [
       "<pandas.io.formats.style.Styler at 0x2287f0bac10>"
      ]
     },
     "metadata": {},
     "output_type": "display_data"
    },
    {
     "data": {
      "text/html": [],
      "text/plain": [
       "<IPython.core.display.HTML object>"
      ]
     },
     "metadata": {},
     "output_type": "display_data"
    },
    {
     "name": "stdout",
     "output_type": "stream",
     "text": [
      "Fitting 10 folds for each of 10 candidates, totalling 100 fits\n"
     ]
    }
   ],
   "source": [
    "lightgbm = tune_model(lightgbm, optimize='f1')"
   ]
  },
  {
   "cell_type": "code",
   "execution_count": 13,
   "metadata": {},
   "outputs": [
    {
     "data": {
      "text/html": [],
      "text/plain": [
       "<IPython.core.display.HTML object>"
      ]
     },
     "metadata": {},
     "output_type": "display_data"
    },
    {
     "data": {
      "image/png": "[encoded data removed]",
      "text/plain": [
       "<Figure size 432x288 with 1 Axes>"
      ]
     },
     "metadata": {
      "needs_background": "light"
     },
     "output_type": "display_data"
    }
   ],
   "source": [
    "plot_model(lightgbm, plot = 'auc')"
   ]
  },
  {
   "cell_type": "code",
   "execution_count": 14,
   "metadata": {},
   "outputs": [
    {
     "data": {
      "text/html": [],
      "text/plain": [
       "<IPython.core.display.HTML object>"
      ]
     },
     "metadata": {},
     "output_type": "display_data"
    },
    {
     "data": {
      "image/png": "[encoded data removed]",
      "text/plain": [
       "<Figure size 432x288 with 1 Axes>"
      ]
     },
     "metadata": {
      "needs_background": "light"
     },
     "output_type": "display_data"
    }
   ],
   "source": [
    "plot_model(lightgbm, plot = 'confusion_matrix')"
   ]
  },
  {
   "cell_type": "code",
   "execution_count": 15,
   "metadata": {},
   "outputs": [
    {
     "data": {
      "image/png": "[encoded data removed]",
      "text/plain": [
       "<Figure size 576x684 with 2 Axes>"
      ]
     },
     "metadata": {
      "needs_background": "light"
     },
     "output_type": "display_data"
    }
   ],
   "source": [
    "interpret_model(lightgbm)"
   ]
  },
  {
   "cell_type": "code",
   "execution_count": 16,
   "metadata": {},
   "outputs": [],
   "source": [
    "model = finalize_model(lightgbm)"
   ]
  },
  {
   "cell_type": "code",
   "execution_count": 17,
   "metadata": {},
   "outputs": [
    {
     "data": {
      "text/html": [
       "<style>#sk-container-id-3 {color: black;background-color: white;}#sk-container-id-3 pre{padding: 0;}#sk-container-id-3 div.sk-toggleable {background-color: white;}#sk-container-id-3 label.sk-toggleable__label {cursor: pointer;display: block;width: 100%;margin-bottom: 0;padding: 0.3em;box-sizing: border-box;text-align: center;}#sk-container-id-3 label.sk-toggleable__label-arrow:before {content: \"▸\";float: left;margin-right: 0.25em;color: #696969;}#sk-container-id-3 label.sk-toggleable__label-arrow:hover:before {color: black;}#sk-container-id-3 div.sk-estimator:hover label.sk-toggleable__label-arrow:before {color: black;}#sk-container-id-3 div.sk-toggleable__content {max-height: 0;max-width: 0;overflow: hidden;text-align: left;background-color: #f0f8ff;}#sk-container-id-3 div.sk-toggleable__content pre {margin: 0.2em;color: black;border-radius: 0.25em;background-color: #f0f8ff;}#sk-container-id-3 input.sk-toggleable__control:checked~div.sk-toggleable__content {max-height: 200px;max-width: 100%;overflow: auto;}#sk-container-id-3 input.sk-toggleable__control:checked~label.sk-toggleable__label-arrow:before {content: \"▾\";}#sk-container-id-3 div.sk-estimator input.sk-toggleable__control:checked~label.sk-toggleable__label {background-color: #d4ebff;}#sk-container-id-3 div.sk-label input.sk-toggleable__control:checked~label.sk-toggleable__label {background-color: #d4ebff;}#sk-container-id-3 input.sk-hidden--visually {border: 0;clip: rect(1px 1px 1px 1px);clip: rect(1px, 1px, 1px, 1px);height: 1px;margin: -1px;overflow: hidden;padding: 0;position: absolute;width: 1px;}#sk-container-id-3 div.sk-estimator {font-family: monospace;background-color: #f0f8ff;border: 1px dotted black;border-radius: 0.25em;box-sizing: border-box;margin-bottom: 0.5em;}#sk-container-id-3 div.sk-estimator:hover {background-color: #d4ebff;}#sk-container-id-3 div.sk-parallel-item::after {content: \"\";width: 100%;border-bottom: 1px solid gray;flex-grow: 1;}#sk-container-id-3 div.sk-label:hover label.sk-toggleable__label {background-color: #d4ebff;}#sk-container-id-3 div.sk-serial::before {content: \"\";position: absolute;border-left: 1px solid gray;box-sizing: border-box;top: 0;bottom: 0;left: 50%;z-index: 0;}#sk-container-id-3 div.sk-serial {display: flex;flex-direction: column;align-items: center;background-color: white;padding-right: 0.2em;padding-left: 0.2em;position: relative;}#sk-container-id-3 div.sk-item {position: relative;z-index: 1;}#sk-container-id-3 div.sk-parallel {display: flex;align-items: stretch;justify-content: center;background-color: white;position: relative;}#sk-container-id-3 div.sk-item::before, #sk-container-id-3 div.sk-parallel-item::before {content: \"\";position: absolute;border-left: 1px solid gray;box-sizing: border-box;top: 0;bottom: 0;left: 50%;z-index: -1;}#sk-container-id-3 div.sk-parallel-item {display: flex;flex-direction: column;z-index: 1;position: relative;background-color: white;}#sk-container-id-3 div.sk-parallel-item:first-child::after {align-self: flex-end;width: 50%;}#sk-container-id-3 div.sk-parallel-item:last-child::after {align-self: flex-start;width: 50%;}#sk-container-id-3 div.sk-parallel-item:only-child::after {width: 0;}#sk-container-id-3 div.sk-dashed-wrapped {border: 1px dashed gray;margin: 0 0.4em 0.5em 0.4em;box-sizing: border-box;padding-bottom: 0.4em;background-color: white;}#sk-container-id-3 div.sk-label label {font-family: monospace;font-weight: bold;display: inline-block;line-height: 1.2em;}#sk-container-id-3 div.sk-label-container {text-align: center;}#sk-container-id-3 div.sk-container {/* jupyter's `normalize.less` sets `[hidden] { display: none; }` but bootstrap.min.css set `[hidden] { display: none !important; }` so we also need the `!important` here to be able to override the default hidden behavior on the sphinx rendered scikit-learn.org. See: https://github.com/scikit-learn/scikit-learn/issues/21755 */display: inline-block !important;position: relative;}#sk-container-id-3 div.sk-text-repr-fallback {display: none;}</style><div id=\"sk-container-id-3\" class=\"sk-top-container\"><div class=\"sk-text-repr-fallback\"><pre>Pipeline(memory=Memory(location=None),\n",
       "         steps=[(&#x27;numerical_imputer&#x27;,\n",
       "                 TransformerWrapper(exclude=None,\n",
       "                                    include=[&#x27;Income&#x27;, &#x27;Kidhome&#x27;, &#x27;Teenhome&#x27;,\n",
       "                                             &#x27;Recency&#x27;, &#x27;MntWines&#x27;, &#x27;MntFruits&#x27;,\n",
       "                                             &#x27;MntMeatProducts&#x27;,\n",
       "                                             &#x27;MntFishProducts&#x27;,\n",
       "                                             &#x27;MntSweetProducts&#x27;, &#x27;MntGoldProds&#x27;,\n",
       "                                             &#x27;NumDealsPurchases&#x27;,\n",
       "                                             &#x27;NumWebPurchases&#x27;,\n",
       "                                             &#x27;NumCatalogPurchases&#x27;,\n",
       "                                             &#x27;NumStorePurchases&#x27;,\n",
       "                                             &#x27;NumWebVisitsMonth&#x27;,\n",
       "                                             &#x27;AcceptedC...\n",
       "                                boosting_type=&#x27;gbdt&#x27;, class_weight=None,\n",
       "                                colsample_bytree=1.0, feature_fraction=0.5,\n",
       "                                importance_type=&#x27;split&#x27;, learning_rate=0.1,\n",
       "                                max_depth=-1, min_child_samples=66,\n",
       "                                min_child_weight=0.001, min_split_gain=0.4,\n",
       "                                n_estimators=90, n_jobs=-1, num_leaves=90,\n",
       "                                objective=None, random_state=123,\n",
       "                                reg_alpha=0.0005, reg_lambda=0.1, subsample=1.0,\n",
       "                                subsample_for_bin=200000, subsample_freq=0))],\n",
       "         verbose=False)</pre><b>In a Jupyter environment, please rerun this cell to show the HTML representation or trust the notebook. <br />On GitHub, the HTML representation is unable to render, please try loading this page with nbviewer.org.</b></div><div class=\"sk-container\" hidden><div class=\"sk-item sk-dashed-wrapped\"><div class=\"sk-label-container\"><div class=\"sk-label sk-toggleable\"><input class=\"sk-toggleable__control sk-hidden--visually\" id=\"sk-estimator-id-3\" type=\"checkbox\" ><label for=\"sk-estimator-id-3\" class=\"sk-toggleable__label sk-toggleable__label-arrow\">Pipeline</label><div class=\"sk-toggleable__content\"><pre>Pipeline(memory=Memory(location=None),\n",
       "         steps=[(&#x27;numerical_imputer&#x27;,\n",
       "                 TransformerWrapper(exclude=None,\n",
       "                                    include=[&#x27;Income&#x27;, &#x27;Kidhome&#x27;, &#x27;Teenhome&#x27;,\n",
       "                                             &#x27;Recency&#x27;, &#x27;MntWines&#x27;, &#x27;MntFruits&#x27;,\n",
       "                                             &#x27;MntMeatProducts&#x27;,\n",
       "                                             &#x27;MntFishProducts&#x27;,\n",
       "                                             &#x27;MntSweetProducts&#x27;, &#x27;MntGoldProds&#x27;,\n",
       "                                             &#x27;NumDealsPurchases&#x27;,\n",
       "                                             &#x27;NumWebPurchases&#x27;,\n",
       "                                             &#x27;NumCatalogPurchases&#x27;,\n",
       "                                             &#x27;NumStorePurchases&#x27;,\n",
       "                                             &#x27;NumWebVisitsMonth&#x27;,\n",
       "                                             &#x27;AcceptedC...\n",
       "                                boosting_type=&#x27;gbdt&#x27;, class_weight=None,\n",
       "                                colsample_bytree=1.0, feature_fraction=0.5,\n",
       "                                importance_type=&#x27;split&#x27;, learning_rate=0.1,\n",
       "                                max_depth=-1, min_child_samples=66,\n",
       "                                min_child_weight=0.001, min_split_gain=0.4,\n",
       "                                n_estimators=90, n_jobs=-1, num_leaves=90,\n",
       "                                objective=None, random_state=123,\n",
       "                                reg_alpha=0.0005, reg_lambda=0.1, subsample=1.0,\n",
       "                                subsample_for_bin=200000, subsample_freq=0))],\n",
       "         verbose=False)</pre></div></div></div><div class=\"sk-serial\"><div class=\"sk-item sk-dashed-wrapped\"><div class=\"sk-label-container\"><div class=\"sk-label sk-toggleable\"><input class=\"sk-toggleable__control sk-hidden--visually\" id=\"sk-estimator-id-4\" type=\"checkbox\" ><label for=\"sk-estimator-id-4\" class=\"sk-toggleable__label sk-toggleable__label-arrow\">numerical_imputer: TransformerWrapper</label><div class=\"sk-toggleable__content\"><pre>TransformerWrapper(exclude=None,\n",
       "                   include=[&#x27;Income&#x27;, &#x27;Kidhome&#x27;, &#x27;Teenhome&#x27;, &#x27;Recency&#x27;,\n",
       "                            &#x27;MntWines&#x27;, &#x27;MntFruits&#x27;, &#x27;MntMeatProducts&#x27;,\n",
       "                            &#x27;MntFishProducts&#x27;, &#x27;MntSweetProducts&#x27;,\n",
       "                            &#x27;MntGoldProds&#x27;, &#x27;NumDealsPurchases&#x27;,\n",
       "                            &#x27;NumWebPurchases&#x27;, &#x27;NumCatalogPurchases&#x27;,\n",
       "                            &#x27;NumStorePurchases&#x27;, &#x27;NumWebVisitsMonth&#x27;,\n",
       "                            &#x27;AcceptedCmp3&#x27;, &#x27;AcceptedCmp4&#x27;, &#x27;AcceptedCmp5&#x27;,\n",
       "                            &#x27;AcceptedCmp1&#x27;, &#x27;AcceptedCmp2&#x27;, &#x27;Complain&#x27;, &#x27;Age&#x27;,\n",
       "                            &#x27;Tenure&#x27;, &#x27;Total_Children&#x27;],\n",
       "                   transformer=SimpleImputer(add_indicator=False, copy=True,\n",
       "                                             fill_value=None,\n",
       "                                             keep_empty_features=False,\n",
       "                                             missing_values=nan,\n",
       "                                             strategy=&#x27;mean&#x27;,\n",
       "                                             verbose=&#x27;deprecated&#x27;))</pre></div></div></div><div class=\"sk-parallel\"><div class=\"sk-parallel-item\"><div class=\"sk-item\"><div class=\"sk-label-container\"><div class=\"sk-label sk-toggleable\"><input class=\"sk-toggleable__control sk-hidden--visually\" id=\"sk-estimator-id-5\" type=\"checkbox\" ><label for=\"sk-estimator-id-5\" class=\"sk-toggleable__label sk-toggleable__label-arrow\">transformer: SimpleImputer</label><div class=\"sk-toggleable__content\"><pre>SimpleImputer()</pre></div></div></div><div class=\"sk-serial\"><div class=\"sk-item\"><div class=\"sk-estimator sk-toggleable\"><input class=\"sk-toggleable__control sk-hidden--visually\" id=\"sk-estimator-id-6\" type=\"checkbox\" ><label for=\"sk-estimator-id-6\" class=\"sk-toggleable__label sk-toggleable__label-arrow\">SimpleImputer</label><div class=\"sk-toggleable__content\"><pre>SimpleImputer()</pre></div></div></div></div></div></div></div></div><div class=\"sk-item sk-dashed-wrapped\"><div class=\"sk-label-container\"><div class=\"sk-label sk-toggleable\"><input class=\"sk-toggleable__control sk-hidden--visually\" id=\"sk-estimator-id-7\" type=\"checkbox\" ><label for=\"sk-estimator-id-7\" class=\"sk-toggleable__label sk-toggleable__label-arrow\">categorical_imputer: TransformerWrapper</label><div class=\"sk-toggleable__content\"><pre>TransformerWrapper(exclude=None, include=[&#x27;Education&#x27;, &#x27;Marital_Status&#x27;],\n",
       "                   transformer=SimpleImputer(add_indicator=False, copy=True,\n",
       "                                             fill_value=None,\n",
       "                                             keep_empty_features=False,\n",
       "                                             missing_values=nan,\n",
       "                                             strategy=&#x27;most_frequent&#x27;,\n",
       "                                             verbose=&#x27;deprecated&#x27;))</pre></div></div></div><div class=\"sk-parallel\"><div class=\"sk-parallel-item\"><div class=\"sk-item\"><div class=\"sk-label-container\"><div class=\"sk-label sk-toggleable\"><input class=\"sk-toggleable__control sk-hidden--visually\" id=\"sk-estimator-id-8\" type=\"checkbox\" ><label for=\"sk-estimator-id-8\" class=\"sk-toggleable__label sk-toggleable__label-arrow\">transformer: SimpleImputer</label><div class=\"sk-toggleable__content\"><pre>SimpleImputer(strategy=&#x27;most_frequent&#x27;)</pre></div></div></div><div class=\"sk-serial\"><div class=\"sk-item\"><div class=\"sk-estimator sk-toggleable\"><input class=\"sk-toggleable__control sk-hidden--visually\" id=\"sk-estimator-id-9\" type=\"checkbox\" ><label for=\"sk-estimator-id-9\" class=\"sk-toggleable__label sk-toggleable__label-arrow\">SimpleImputer</label><div class=\"sk-toggleable__content\"><pre>SimpleImputer(strategy=&#x27;most_frequent&#x27;)</pre></div></div></div></div></div></div></div></div><div class=\"sk-item sk-dashed-wrapped\"><div class=\"sk-label-container\"><div class=\"sk-label sk-toggleable\"><input class=\"sk-toggleable__control sk-hidden--visually\" id=\"sk-estimator-id-10\" type=\"checkbox\" ><label for=\"sk-estimator-id-10\" class=\"sk-toggleable__label sk-toggleable__label-arrow\">onehot_encoding: TransformerWrapper</label><div class=\"sk-toggleable__content\"><pre>TransformerWrapper(exclude=None, include=[&#x27;Education&#x27;, &#x27;Marital_Status&#x27;],\n",
       "                   transformer=OneHotEncoder(cols=[&#x27;Education&#x27;,\n",
       "                                                   &#x27;Marital_Status&#x27;],\n",
       "                                             drop_invariant=False,\n",
       "                                             handle_missing=&#x27;return_nan&#x27;,\n",
       "                                             handle_unknown=&#x27;value&#x27;,\n",
       "                                             return_df=True, use_cat_names=True,\n",
       "                                             verbose=0))</pre></div></div></div><div class=\"sk-parallel\"><div class=\"sk-parallel-item\"><div class=\"sk-item\"><div class=\"sk-label-container\"><div class=\"sk-label sk-toggleable\"><input class=\"sk-toggleable__control sk-hidden--visually\" id=\"sk-estimator-id-11\" type=\"checkbox\" ><label for=\"sk-estimator-id-11\" class=\"sk-toggleable__label sk-toggleable__label-arrow\">transformer: OneHotEncoder</label><div class=\"sk-toggleable__content\"><pre>OneHotEncoder(cols=[&#x27;Education&#x27;, &#x27;Marital_Status&#x27;], handle_missing=&#x27;return_nan&#x27;,\n",
       "              use_cat_names=True)</pre></div></div></div><div class=\"sk-serial\"><div class=\"sk-item\"><div class=\"sk-estimator sk-toggleable\"><input class=\"sk-toggleable__control sk-hidden--visually\" id=\"sk-estimator-id-12\" type=\"checkbox\" ><label for=\"sk-estimator-id-12\" class=\"sk-toggleable__label sk-toggleable__label-arrow\">OneHotEncoder</label><div class=\"sk-toggleable__content\"><pre>OneHotEncoder(cols=[&#x27;Education&#x27;, &#x27;Marital_Status&#x27;], handle_missing=&#x27;return_nan&#x27;,\n",
       "              use_cat_names=True)</pre></div></div></div></div></div></div></div></div><div class=\"sk-item\"><div class=\"sk-estimator sk-toggleable\"><input class=\"sk-toggleable__control sk-hidden--visually\" id=\"sk-estimator-id-13\" type=\"checkbox\" ><label for=\"sk-estimator-id-13\" class=\"sk-toggleable__label sk-toggleable__label-arrow\">LGBMClassifier</label><div class=\"sk-toggleable__content\"><pre>LGBMClassifier(bagging_fraction=0.7, bagging_freq=6, feature_fraction=0.5,\n",
       "               min_child_samples=66, min_split_gain=0.4, n_estimators=90,\n",
       "               n_jobs=-1, num_leaves=90, random_state=123, reg_alpha=0.0005,\n",
       "               reg_lambda=0.1)</pre></div></div></div></div></div></div></div>"
      ],
      "text/plain": [
       "Pipeline(memory=Memory(location=None),\n",
       "         steps=[('numerical_imputer',\n",
       "                 TransformerWrapper(exclude=None,\n",
       "                                    include=['Income', 'Kidhome', 'Teenhome',\n",
       "                                             'Recency', 'MntWines', 'MntFruits',\n",
       "                                             'MntMeatProducts',\n",
       "                                             'MntFishProducts',\n",
       "                                             'MntSweetProducts', 'MntGoldProds',\n",
       "                                             'NumDealsPurchases',\n",
       "                                             'NumWebPurchases',\n",
       "                                             'NumCatalogPurchases',\n",
       "                                             'NumStorePurchases',\n",
       "                                             'NumWebVisitsMonth',\n",
       "                                             'AcceptedC...\n",
       "                                boosting_type='gbdt', class_weight=None,\n",
       "                                colsample_bytree=1.0, feature_fraction=0.5,\n",
       "                                importance_type='split', learning_rate=0.1,\n",
       "                                max_depth=-1, min_child_samples=66,\n",
       "                                min_child_weight=0.001, min_split_gain=0.4,\n",
       "                                n_estimators=90, n_jobs=-1, num_leaves=90,\n",
       "                                objective=None, random_state=123,\n",
       "                                reg_alpha=0.0005, reg_lambda=0.1, subsample=1.0,\n",
       "                                subsample_for_bin=200000, subsample_freq=0))],\n",
       "         verbose=False)"
      ]
     },
     "execution_count": 17,
     "metadata": {},
     "output_type": "execute_result"
    }
   ],
   "source": [
    "model"
   ]
  },
  {
   "cell_type": "markdown",
   "metadata": {},
   "source": [
    "### Validation"
   ]
  },
  {
   "cell_type": "code",
   "execution_count": 18,
   "metadata": {},
   "outputs": [
    {
     "name": "stdout",
     "output_type": "stream",
     "text": [
      "[LightGBM] [Warning] feature_fraction is set=0.5, colsample_bytree=1.0 will be ignored. Current value: feature_fraction=0.5\n",
      "[LightGBM] [Warning] bagging_fraction is set=0.7, subsample=1.0 will be ignored. Current value: bagging_fraction=0.7\n",
      "[LightGBM] [Warning] bagging_freq is set=6, subsample_freq=0 will be ignored. Current value: bagging_freq=6\n"
     ]
    }
   ],
   "source": [
    "preprocessed_Xtest['predict'] = model.predict(preprocessed_Xtest.drop('Response', axis=1))"
   ]
  },
  {
   "cell_type": "code",
   "execution_count": 19,
   "metadata": {},
   "outputs": [
    {
     "data": {
      "text/plain": [
       "array([[366,  11],\n",
       "       [ 44,  25]], dtype=int64)"
      ]
     },
     "execution_count": 19,
     "metadata": {},
     "output_type": "execute_result"
    }
   ],
   "source": [
    "from sklearn.metrics import confusion_matrix\n",
    "confusion_matrix(preprocessed_Xtest['Response'], preprocessed_Xtest['predict'])"
   ]
  },
  {
   "cell_type": "code",
   "execution_count": 20,
   "metadata": {},
   "outputs": [
    {
     "data": {
      "text/plain": [
       "array([0.97082228, 0.36231884])"
      ]
     },
     "execution_count": 20,
     "metadata": {},
     "output_type": "execute_result"
    }
   ],
   "source": [
    "from sklearn.metrics import recall_score\n",
    "recall_score(preprocessed_Xtest['Response'], preprocessed_Xtest['predict'], average=None)"
   ]
  },
  {
   "cell_type": "code",
   "execution_count": 21,
   "metadata": {},
   "outputs": [
    {
     "name": "stdout",
     "output_type": "stream",
     "text": [
      "              precision    recall  f1-score   support\n",
      "\n",
      "           0       0.89      0.97      0.93       377\n",
      "           1       0.69      0.36      0.48        69\n",
      "\n",
      "    accuracy                           0.88       446\n",
      "   macro avg       0.79      0.67      0.70       446\n",
      "weighted avg       0.86      0.88      0.86       446\n",
      "\n"
     ]
    }
   ],
   "source": [
    "from sklearn.metrics import classification_report\n",
    "print(classification_report(preprocessed_Xtest['Response'], preprocessed_Xtest['predict']))"
   ]
  },
  {
   "cell_type": "code",
   "execution_count": null,
   "metadata": {},
   "outputs": [],
   "source": []
  }
 ],
 "metadata": {
  "kernelspec": {
   "display_name": "base",
   "language": "python",
   "name": "python3"
  },
  "language_info": {
   "codemirror_mode": {
    "name": "ipython",
    "version": 3
   },
   "file_extension": ".py",
   "mimetype": "text/x-python",
   "name": "python",
   "nbconvert_exporter": "python",
   "pygments_lexer": "ipython3",
   "version": "3.8.8"
  }
 },
 "nbformat": 4,
 "nbformat_minor": 2
}
