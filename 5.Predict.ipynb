{
 "cells": [
  {
   "cell_type": "markdown",
   "metadata": {},
   "source": [
    "## 5. Predict\n"
   ]
  },
  {
   "cell_type": "code",
   "execution_count": 1,
   "metadata": {},
   "outputs": [],
   "source": [
    "import pandas as pd\n",
    "import warnings\n",
    "warnings.filterwarnings('ignore')\n",
    "import numpy as np\n",
    "import datetime\n",
    "import pickle"
   ]
  },
  {
   "cell_type": "code",
   "execution_count": 5,
   "metadata": {},
   "outputs": [],
   "source": [
    "data = pd.read_csv('marketing_campaign.csv', sep=';')"
   ]
  },
  {
   "cell_type": "markdown",
   "metadata": {},
   "source": [
    "### Preprocessing, Feature Generation"
   ]
  },
  {
   "cell_type": "code",
   "execution_count": 2,
   "metadata": {},
   "outputs": [],
   "source": [
    "class FeatureEngineering:\n",
    "    def __init__(self, data, preprocessing_type:'predict'):\n",
    "        self.data = data\n",
    "        self.median_income = None\n",
    "        self.income_cutoff = None\n",
    "        self.preprocessing_type = preprocessing_type\n",
    "\n",
    "    def preprocessing(self):\n",
    "        # Calculate Age and remove outliers\n",
    "        self.data['Age'] = datetime.datetime.now().year - self.data['Year_Birth'] \n",
    "        self.data = self.data[self.data['Age'] < 100]\n",
    "\n",
    "        # Calculate Tenure\n",
    "        self.data['Dt_Customer'] = pd.to_datetime(self.data['Dt_Customer'])\n",
    "        self.data['Tenure'] = datetime.datetime.now().year - self.data['Dt_Customer'].dt.year\n",
    "\n",
    "        # Create Total Children\n",
    "        self.data['Total_Children'] = self.data['Kidhome'] + self.data['Teenhome']\n",
    "\n",
    "        # Fix Marital Status\n",
    "        self.data['Marital_Status'] = self.data['Marital_Status'].replace(['YOLO', 'Alone', 'Absurd'], 'Single')\n",
    "\n",
    "        # Remove outlier and impute median income\n",
    "        if self.preprocessing_type == 'train':\n",
    "            Q3 = np.quantile(data['Income'].dropna(), 0.75)\n",
    "            Q1 = np.quantile(data['Income'].dropna(), 0.25)\n",
    "            IQR = Q3 - Q1\n",
    "            self.income_cutoff = Q3 + 1.5 * IQR\n",
    "            self.median_income = self.data.loc[self.data['Income'] < self.income_cutoff, 'Income'].median()\n",
    "\n",
    "        self.data.loc[self.data['Income'] > self.income_cutoff, 'Income'] = self.median_income\n",
    "        self.data['Income'] = self.data['Income'].fillna(self.median_income)\n",
    "\n",
    "        # Set ID as index\n",
    "        self.data = self.data.set_index('ID')\n",
    "\n",
    "        # One hot encode categorical variables\n",
    "        self.data = pd.get_dummies(self.data, columns=['Education', 'Marital_Status'], drop_first=True)\n",
    "\n",
    "        # Drop columns\n",
    "        self.data = self.data.drop(['Year_Birth', 'Dt_Customer', 'Z_CostContact', 'Z_Revenue'], axis=1)\n",
    "    \n",
    "    def get_data(self) -> pd.DataFrame:\n",
    "        return(self.data)"
   ]
  },
  {
   "cell_type": "code",
   "execution_count": 3,
   "metadata": {},
   "outputs": [
    {
     "name": "stdout",
     "output_type": "stream",
     "text": [
      "50737.0\n",
      "118350.5\n"
     ]
    }
   ],
   "source": [
    "with open('train_processing.pkl', 'rb') as inp:\n",
    "    processing_train = pickle.load(inp)\n",
    "    print(processing_train.median_income) \n",
    "    print(processing_train.income_cutoff)"
   ]
  },
  {
   "cell_type": "code",
   "execution_count": 6,
   "metadata": {},
   "outputs": [],
   "source": [
    "preprocessing_test = FeatureEngineering(data, preprocessing_type='predict')\n",
    "preprocessing_test.median_income = processing_train.median_income\n",
    "preprocessing_test.income_cutoff = processing_train.income_cutoff\n",
    "preprocessing_test.preprocessing()\n",
    "preprocessed_Xtest = preprocessing_test.get_data()"
   ]
  },
  {
   "cell_type": "markdown",
   "metadata": {},
   "source": [
    "### Predict"
   ]
  },
  {
   "cell_type": "code",
   "execution_count": 7,
   "metadata": {},
   "outputs": [],
   "source": [
    "import pickle\n",
    "model = pickle.load(open('lightgbm_model.pkl', 'rb'))"
   ]
  },
  {
   "cell_type": "code",
   "execution_count": 8,
   "metadata": {},
   "outputs": [
    {
     "name": "stdout",
     "output_type": "stream",
     "text": [
      "[LightGBM] [Warning] feature_fraction is set=0.5, colsample_bytree=1.0 will be ignored. Current value: feature_fraction=0.5\n",
      "[LightGBM] [Warning] bagging_fraction is set=0.7, subsample=1.0 will be ignored. Current value: bagging_fraction=0.7\n",
      "[LightGBM] [Warning] bagging_freq is set=6, subsample_freq=0 will be ignored. Current value: bagging_freq=6\n"
     ]
    }
   ],
   "source": [
    "preprocessed_Xtest['predict'] = model.predict(preprocessed_Xtest.drop(['Response'], axis=1))"
   ]
  },
  {
   "cell_type": "code",
   "execution_count": 9,
   "metadata": {},
   "outputs": [
    {
     "data": {
      "text/plain": [
       "array([[1879,   24],\n",
       "       [ 109,  225]], dtype=int64)"
      ]
     },
     "execution_count": 9,
     "metadata": {},
     "output_type": "execute_result"
    }
   ],
   "source": [
    "from sklearn.metrics import confusion_matrix\n",
    "confusion_matrix(preprocessed_Xtest['Response'], preprocessed_Xtest['predict'])"
   ]
  },
  {
   "cell_type": "code",
   "execution_count": 10,
   "metadata": {},
   "outputs": [
    {
     "name": "stdout",
     "output_type": "stream",
     "text": [
      "              precision    recall  f1-score   support\n",
      "\n",
      "           0       0.95      0.99      0.97      1903\n",
      "           1       0.90      0.67      0.77       334\n",
      "\n",
      "    accuracy                           0.94      2237\n",
      "   macro avg       0.92      0.83      0.87      2237\n",
      "weighted avg       0.94      0.94      0.94      2237\n",
      "\n"
     ]
    }
   ],
   "source": [
    "from sklearn.metrics import classification_report\n",
    "print(classification_report(preprocessed_Xtest['Response'], preprocessed_Xtest['predict']))"
   ]
  },
  {
   "cell_type": "code",
   "execution_count": null,
   "metadata": {},
   "outputs": [],
   "source": []
  }
 ],
 "metadata": {
  "kernelspec": {
   "display_name": "base",
   "language": "python",
   "name": "python3"
  },
  "language_info": {
   "codemirror_mode": {
    "name": "ipython",
    "version": 3
   },
   "file_extension": ".py",
   "mimetype": "text/x-python",
   "name": "python",
   "nbconvert_exporter": "python",
   "pygments_lexer": "ipython3",
   "version": "3.8.8"
  }
 },
 "nbformat": 4,
 "nbformat_minor": 2
}
